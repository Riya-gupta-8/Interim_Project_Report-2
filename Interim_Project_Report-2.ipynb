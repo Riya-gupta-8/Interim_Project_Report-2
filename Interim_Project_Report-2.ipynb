{
 "cells": [
  {
   "cell_type": "markdown",
   "metadata": {},
   "source": [
    "RIO-125: Rank features of a smartphone - Build a python application to classify and rank dataset"
   ]
  },
  {
   "cell_type": "markdown",
   "metadata": {},
   "source": [
    "### LIFE CYCLE OF A DATA SCIENCE PROJECT\n",
    "\n",
    "#### 1 Data Gathering \n",
    "\n",
    "#### 2 Data Analysis\n",
    "\n",
    "#### 3 Feature Engineering \n",
    "\n",
    "#### 4 Feature Selection\n",
    "\n",
    "#### 5 Model Building \n",
    "\n",
    "#### 6 Hyper-Parametric Tuning "
   ]
  },
  {
   "cell_type": "markdown",
   "metadata": {},
   "source": [
    "### Step 3- Feature Engineering\n"
   ]
  },
  {
   "cell_type": "markdown",
   "metadata": {},
   "source": [
    "#### 1. Missing Values\n",
    "\n",
    "#### 2. Temporal Variables\n",
    "\n",
    "#### 3. Categorical Variables : remove rare labels\n",
    "\n",
    "#### 4. Transform the values of the variables to same range"
   ]
  },
  {
   "cell_type": "markdown",
   "metadata": {},
   "source": [
    "IMPORTING SOME LIBRARIES"
   ]
  },
  {
   "cell_type": "code",
   "execution_count": 1,
   "metadata": {},
   "outputs": [],
   "source": [
    "import pandas as pd\n",
    "import matplotlib.pyplot as plt\n",
    "%matplotlib inline \n",
    "import numpy as np\n",
    "import seaborn as sns"
   ]
  },
  {
   "cell_type": "markdown",
   "metadata": {},
   "source": [
    "CREATING THE DATA - FRAME"
   ]
  },
  {
   "cell_type": "code",
   "execution_count": 2,
   "metadata": {},
   "outputs": [],
   "source": [
    "df = pd.read_csv(r'C:\\Users\\hp\\Desktop\\PROJECT\\train.csv')"
   ]
  },
  {
   "cell_type": "markdown",
   "metadata": {},
   "source": [
    "AS WE HAVE CHECKED WHILE DATA ANALYSIS THAT DATA SET HAS NO MISSING VALUE SO NO FEATURE ENGG REQUIRED FOR  MISSING VALUES "
   ]
  },
  {
   "cell_type": "markdown",
   "metadata": {},
   "source": [
    "THE DATASET DOESN'T HAVE ANY TEMPORAL VARIABLES"
   ]
  },
  {
   "cell_type": "code",
   "execution_count": 3,
   "metadata": {
    "scrolled": true
   },
   "outputs": [
    {
     "data": {
      "text/plain": [
       "array([1, 2, 3, 0], dtype=int64)"
      ]
     },
     "execution_count": 3,
     "metadata": {},
     "output_type": "execute_result"
    }
   ],
   "source": [
    "df.price_range.unique()"
   ]
  },
  {
   "cell_type": "markdown",
   "metadata": {},
   "source": [
    "SPLITTING FEATURES INTO CONTINUOUS AND CATEGORICAL FEATURES"
   ]
  },
  {
   "cell_type": "code",
   "execution_count": 4,
   "metadata": {},
   "outputs": [],
   "source": [
    "continuous_num_features = [column for column in df.columns if len(df[column].unique())>=15]\n",
    "categorical_num_features = [column for column in df.columns if column not in continuous_num_features]"
   ]
  },
  {
   "cell_type": "code",
   "execution_count": 5,
   "metadata": {},
   "outputs": [
    {
     "name": "stdout",
     "output_type": "stream",
     "text": [
      "blue  has  [0, 1]  labels\n",
      "dual_sim  has  [0, 1]  labels\n",
      "four_g  has  [0, 1]  labels\n",
      "m_dep  has  [0.6, 0.7, 0.9, 0.8, 0.1, 0.5, 1.0, 0.3, 0.4, 0.2]  labels\n",
      "n_cores  has  [2, 3, 5, 6, 1, 8, 4, 7]  labels\n",
      "three_g  has  [0, 1]  labels\n",
      "touch_screen  has  [0, 1]  labels\n",
      "wifi  has  [1, 0]  labels\n",
      "price_range  has  [1, 2, 3, 0]  labels\n"
     ]
    }
   ],
   "source": [
    "for column in categorical_num_features:\n",
    "    print(column , \" has \", list(df[column].unique()),\" labels\")"
   ]
  },
  {
   "cell_type": "markdown",
   "metadata": {},
   "source": [
    "WE CAN SEE THAT FEATURE IS NOT HAVING LARGER NO OF LABELS . AT MAX IT HAS 10 LABELS"
   ]
  },
  {
   "cell_type": "code",
   "execution_count": 6,
   "metadata": {},
   "outputs": [
    {
     "data": {
      "text/plain": [
       "3    500\n",
       "2    500\n",
       "1    500\n",
       "0    500\n",
       "Name: price_range, dtype: int64"
      ]
     },
     "execution_count": 6,
     "metadata": {},
     "output_type": "execute_result"
    }
   ],
   "source": [
    "df['price_range'].value_counts()"
   ]
  },
  {
   "cell_type": "markdown",
   "metadata": {},
   "source": [
    "IT'S A BALANCED DATASET"
   ]
  },
  {
   "cell_type": "markdown",
   "metadata": {},
   "source": [
    "AS WE HAVE SEEN THAT IS DATASET DOESN'T MAKE BELL SHAPED DISTRIBUTION IN DATA ANALYSIS SO WE WILL APPLY NORMALIZATION ON THE DATASET"
   ]
  },
  {
   "cell_type": "markdown",
   "metadata": {},
   "source": [
    "COPYING THE DATASET"
   ]
  },
  {
   "cell_type": "code",
   "execution_count": 7,
   "metadata": {},
   "outputs": [],
   "source": [
    "data1 = df.copy()"
   ]
  },
  {
   "cell_type": "markdown",
   "metadata": {},
   "source": [
    "LET'S NORMALIZE THE FEATURES "
   ]
  },
  {
   "cell_type": "code",
   "execution_count": 10,
   "metadata": {},
   "outputs": [],
   "source": [
    "x = data1.drop('price_range',axis =1)\n",
    "y = data1.price_range"
   ]
  },
  {
   "cell_type": "code",
   "execution_count": 11,
   "metadata": {},
   "outputs": [
    {
     "data": {
      "text/html": [
       "<div>\n",
       "<style scoped>\n",
       "    .dataframe tbody tr th:only-of-type {\n",
       "        vertical-align: middle;\n",
       "    }\n",
       "\n",
       "    .dataframe tbody tr th {\n",
       "        vertical-align: top;\n",
       "    }\n",
       "\n",
       "    .dataframe thead th {\n",
       "        text-align: right;\n",
       "    }\n",
       "</style>\n",
       "<table border=\"1\" class=\"dataframe\">\n",
       "  <thead>\n",
       "    <tr style=\"text-align: right;\">\n",
       "      <th></th>\n",
       "      <th>battery_power</th>\n",
       "      <th>blue</th>\n",
       "      <th>clock_speed</th>\n",
       "      <th>dual_sim</th>\n",
       "      <th>fc</th>\n",
       "      <th>four_g</th>\n",
       "      <th>int_memory</th>\n",
       "      <th>m_dep</th>\n",
       "      <th>mobile_wt</th>\n",
       "      <th>n_cores</th>\n",
       "      <th>pc</th>\n",
       "      <th>px_height</th>\n",
       "      <th>px_width</th>\n",
       "      <th>ram</th>\n",
       "      <th>sc_h</th>\n",
       "      <th>sc_w</th>\n",
       "      <th>talk_time</th>\n",
       "      <th>three_g</th>\n",
       "      <th>touch_screen</th>\n",
       "      <th>wifi</th>\n",
       "    </tr>\n",
       "  </thead>\n",
       "  <tbody>\n",
       "    <tr>\n",
       "      <th>0</th>\n",
       "      <td>842</td>\n",
       "      <td>0</td>\n",
       "      <td>2.2</td>\n",
       "      <td>0</td>\n",
       "      <td>1</td>\n",
       "      <td>0</td>\n",
       "      <td>7</td>\n",
       "      <td>0.6</td>\n",
       "      <td>188</td>\n",
       "      <td>2</td>\n",
       "      <td>2</td>\n",
       "      <td>20</td>\n",
       "      <td>756</td>\n",
       "      <td>2549</td>\n",
       "      <td>9</td>\n",
       "      <td>7</td>\n",
       "      <td>19</td>\n",
       "      <td>0</td>\n",
       "      <td>0</td>\n",
       "      <td>1</td>\n",
       "    </tr>\n",
       "    <tr>\n",
       "      <th>1</th>\n",
       "      <td>1021</td>\n",
       "      <td>1</td>\n",
       "      <td>0.5</td>\n",
       "      <td>1</td>\n",
       "      <td>0</td>\n",
       "      <td>1</td>\n",
       "      <td>53</td>\n",
       "      <td>0.7</td>\n",
       "      <td>136</td>\n",
       "      <td>3</td>\n",
       "      <td>6</td>\n",
       "      <td>905</td>\n",
       "      <td>1988</td>\n",
       "      <td>2631</td>\n",
       "      <td>17</td>\n",
       "      <td>3</td>\n",
       "      <td>7</td>\n",
       "      <td>1</td>\n",
       "      <td>1</td>\n",
       "      <td>0</td>\n",
       "    </tr>\n",
       "    <tr>\n",
       "      <th>2</th>\n",
       "      <td>563</td>\n",
       "      <td>1</td>\n",
       "      <td>0.5</td>\n",
       "      <td>1</td>\n",
       "      <td>2</td>\n",
       "      <td>1</td>\n",
       "      <td>41</td>\n",
       "      <td>0.9</td>\n",
       "      <td>145</td>\n",
       "      <td>5</td>\n",
       "      <td>6</td>\n",
       "      <td>1263</td>\n",
       "      <td>1716</td>\n",
       "      <td>2603</td>\n",
       "      <td>11</td>\n",
       "      <td>2</td>\n",
       "      <td>9</td>\n",
       "      <td>1</td>\n",
       "      <td>1</td>\n",
       "      <td>0</td>\n",
       "    </tr>\n",
       "    <tr>\n",
       "      <th>3</th>\n",
       "      <td>615</td>\n",
       "      <td>1</td>\n",
       "      <td>2.5</td>\n",
       "      <td>0</td>\n",
       "      <td>0</td>\n",
       "      <td>0</td>\n",
       "      <td>10</td>\n",
       "      <td>0.8</td>\n",
       "      <td>131</td>\n",
       "      <td>6</td>\n",
       "      <td>9</td>\n",
       "      <td>1216</td>\n",
       "      <td>1786</td>\n",
       "      <td>2769</td>\n",
       "      <td>16</td>\n",
       "      <td>8</td>\n",
       "      <td>11</td>\n",
       "      <td>1</td>\n",
       "      <td>0</td>\n",
       "      <td>0</td>\n",
       "    </tr>\n",
       "    <tr>\n",
       "      <th>4</th>\n",
       "      <td>1821</td>\n",
       "      <td>1</td>\n",
       "      <td>1.2</td>\n",
       "      <td>0</td>\n",
       "      <td>13</td>\n",
       "      <td>1</td>\n",
       "      <td>44</td>\n",
       "      <td>0.6</td>\n",
       "      <td>141</td>\n",
       "      <td>2</td>\n",
       "      <td>14</td>\n",
       "      <td>1208</td>\n",
       "      <td>1212</td>\n",
       "      <td>1411</td>\n",
       "      <td>8</td>\n",
       "      <td>2</td>\n",
       "      <td>15</td>\n",
       "      <td>1</td>\n",
       "      <td>1</td>\n",
       "      <td>0</td>\n",
       "    </tr>\n",
       "  </tbody>\n",
       "</table>\n",
       "</div>"
      ],
      "text/plain": [
       "   battery_power  blue  clock_speed  dual_sim  fc  four_g  int_memory  m_dep  \\\n",
       "0            842     0          2.2         0   1       0           7    0.6   \n",
       "1           1021     1          0.5         1   0       1          53    0.7   \n",
       "2            563     1          0.5         1   2       1          41    0.9   \n",
       "3            615     1          2.5         0   0       0          10    0.8   \n",
       "4           1821     1          1.2         0  13       1          44    0.6   \n",
       "\n",
       "   mobile_wt  n_cores  pc  px_height  px_width   ram  sc_h  sc_w  talk_time  \\\n",
       "0        188        2   2         20       756  2549     9     7         19   \n",
       "1        136        3   6        905      1988  2631    17     3          7   \n",
       "2        145        5   6       1263      1716  2603    11     2          9   \n",
       "3        131        6   9       1216      1786  2769    16     8         11   \n",
       "4        141        2  14       1208      1212  1411     8     2         15   \n",
       "\n",
       "   three_g  touch_screen  wifi  \n",
       "0        0             0     1  \n",
       "1        1             1     0  \n",
       "2        1             1     0  \n",
       "3        1             0     0  \n",
       "4        1             1     0  "
      ]
     },
     "execution_count": 11,
     "metadata": {},
     "output_type": "execute_result"
    }
   ],
   "source": [
    "x.head()"
   ]
  },
  {
   "cell_type": "markdown",
   "metadata": {},
   "source": [
    "HERE x IS INPUT INDEPENDENT VARIABLES AND y IS OUTPUT DEPENDENT VARIABLE "
   ]
  },
  {
   "cell_type": "code",
   "execution_count": 9,
   "metadata": {
    "scrolled": true
   },
   "outputs": [
    {
     "data": {
      "text/html": [
       "<div>\n",
       "<style scoped>\n",
       "    .dataframe tbody tr th:only-of-type {\n",
       "        vertical-align: middle;\n",
       "    }\n",
       "\n",
       "    .dataframe tbody tr th {\n",
       "        vertical-align: top;\n",
       "    }\n",
       "\n",
       "    .dataframe thead th {\n",
       "        text-align: right;\n",
       "    }\n",
       "</style>\n",
       "<table border=\"1\" class=\"dataframe\">\n",
       "  <thead>\n",
       "    <tr style=\"text-align: right;\">\n",
       "      <th></th>\n",
       "      <th>battery_power</th>\n",
       "      <th>blue</th>\n",
       "      <th>clock_speed</th>\n",
       "      <th>dual_sim</th>\n",
       "      <th>fc</th>\n",
       "      <th>four_g</th>\n",
       "      <th>int_memory</th>\n",
       "      <th>m_dep</th>\n",
       "      <th>mobile_wt</th>\n",
       "      <th>n_cores</th>\n",
       "      <th>pc</th>\n",
       "      <th>px_height</th>\n",
       "      <th>px_width</th>\n",
       "      <th>ram</th>\n",
       "      <th>sc_h</th>\n",
       "      <th>sc_w</th>\n",
       "      <th>talk_time</th>\n",
       "      <th>three_g</th>\n",
       "      <th>touch_screen</th>\n",
       "      <th>wifi</th>\n",
       "    </tr>\n",
       "  </thead>\n",
       "  <tbody>\n",
       "    <tr>\n",
       "      <th>0</th>\n",
       "      <td>0.227789</td>\n",
       "      <td>0.0</td>\n",
       "      <td>0.68</td>\n",
       "      <td>0.0</td>\n",
       "      <td>0.052632</td>\n",
       "      <td>0.0</td>\n",
       "      <td>0.080645</td>\n",
       "      <td>0.555556</td>\n",
       "      <td>0.900000</td>\n",
       "      <td>0.142857</td>\n",
       "      <td>0.10</td>\n",
       "      <td>0.010204</td>\n",
       "      <td>0.170895</td>\n",
       "      <td>0.612774</td>\n",
       "      <td>0.285714</td>\n",
       "      <td>0.388889</td>\n",
       "      <td>0.944444</td>\n",
       "      <td>0.0</td>\n",
       "      <td>0.0</td>\n",
       "      <td>1.0</td>\n",
       "    </tr>\n",
       "    <tr>\n",
       "      <th>1</th>\n",
       "      <td>0.347361</td>\n",
       "      <td>1.0</td>\n",
       "      <td>0.00</td>\n",
       "      <td>1.0</td>\n",
       "      <td>0.000000</td>\n",
       "      <td>1.0</td>\n",
       "      <td>0.822581</td>\n",
       "      <td>0.666667</td>\n",
       "      <td>0.466667</td>\n",
       "      <td>0.285714</td>\n",
       "      <td>0.30</td>\n",
       "      <td>0.461735</td>\n",
       "      <td>0.993324</td>\n",
       "      <td>0.634687</td>\n",
       "      <td>0.857143</td>\n",
       "      <td>0.166667</td>\n",
       "      <td>0.277778</td>\n",
       "      <td>1.0</td>\n",
       "      <td>1.0</td>\n",
       "      <td>0.0</td>\n",
       "    </tr>\n",
       "    <tr>\n",
       "      <th>2</th>\n",
       "      <td>0.041416</td>\n",
       "      <td>1.0</td>\n",
       "      <td>0.00</td>\n",
       "      <td>1.0</td>\n",
       "      <td>0.105263</td>\n",
       "      <td>1.0</td>\n",
       "      <td>0.629032</td>\n",
       "      <td>0.888889</td>\n",
       "      <td>0.541667</td>\n",
       "      <td>0.571429</td>\n",
       "      <td>0.30</td>\n",
       "      <td>0.644388</td>\n",
       "      <td>0.811749</td>\n",
       "      <td>0.627205</td>\n",
       "      <td>0.428571</td>\n",
       "      <td>0.111111</td>\n",
       "      <td>0.388889</td>\n",
       "      <td>1.0</td>\n",
       "      <td>1.0</td>\n",
       "      <td>0.0</td>\n",
       "    </tr>\n",
       "    <tr>\n",
       "      <th>3</th>\n",
       "      <td>0.076152</td>\n",
       "      <td>1.0</td>\n",
       "      <td>0.80</td>\n",
       "      <td>0.0</td>\n",
       "      <td>0.000000</td>\n",
       "      <td>0.0</td>\n",
       "      <td>0.129032</td>\n",
       "      <td>0.777778</td>\n",
       "      <td>0.425000</td>\n",
       "      <td>0.714286</td>\n",
       "      <td>0.45</td>\n",
       "      <td>0.620408</td>\n",
       "      <td>0.858478</td>\n",
       "      <td>0.671566</td>\n",
       "      <td>0.785714</td>\n",
       "      <td>0.444444</td>\n",
       "      <td>0.500000</td>\n",
       "      <td>1.0</td>\n",
       "      <td>0.0</td>\n",
       "      <td>0.0</td>\n",
       "    </tr>\n",
       "    <tr>\n",
       "      <th>4</th>\n",
       "      <td>0.881764</td>\n",
       "      <td>1.0</td>\n",
       "      <td>0.28</td>\n",
       "      <td>0.0</td>\n",
       "      <td>0.684211</td>\n",
       "      <td>1.0</td>\n",
       "      <td>0.677419</td>\n",
       "      <td>0.555556</td>\n",
       "      <td>0.508333</td>\n",
       "      <td>0.142857</td>\n",
       "      <td>0.70</td>\n",
       "      <td>0.616327</td>\n",
       "      <td>0.475300</td>\n",
       "      <td>0.308658</td>\n",
       "      <td>0.214286</td>\n",
       "      <td>0.111111</td>\n",
       "      <td>0.722222</td>\n",
       "      <td>1.0</td>\n",
       "      <td>1.0</td>\n",
       "      <td>0.0</td>\n",
       "    </tr>\n",
       "    <tr>\n",
       "      <th>5</th>\n",
       "      <td>0.907148</td>\n",
       "      <td>0.0</td>\n",
       "      <td>0.00</td>\n",
       "      <td>1.0</td>\n",
       "      <td>0.157895</td>\n",
       "      <td>0.0</td>\n",
       "      <td>0.322581</td>\n",
       "      <td>0.666667</td>\n",
       "      <td>0.700000</td>\n",
       "      <td>0.000000</td>\n",
       "      <td>0.35</td>\n",
       "      <td>0.512245</td>\n",
       "      <td>0.770360</td>\n",
       "      <td>0.216729</td>\n",
       "      <td>0.857143</td>\n",
       "      <td>0.055556</td>\n",
       "      <td>0.444444</td>\n",
       "      <td>1.0</td>\n",
       "      <td>0.0</td>\n",
       "      <td>0.0</td>\n",
       "    </tr>\n",
       "    <tr>\n",
       "      <th>6</th>\n",
       "      <td>0.881764</td>\n",
       "      <td>0.0</td>\n",
       "      <td>0.48</td>\n",
       "      <td>0.0</td>\n",
       "      <td>0.210526</td>\n",
       "      <td>1.0</td>\n",
       "      <td>0.129032</td>\n",
       "      <td>0.777778</td>\n",
       "      <td>0.491667</td>\n",
       "      <td>1.000000</td>\n",
       "      <td>0.50</td>\n",
       "      <td>0.194388</td>\n",
       "      <td>0.345794</td>\n",
       "      <td>0.792090</td>\n",
       "      <td>0.571429</td>\n",
       "      <td>0.444444</td>\n",
       "      <td>0.888889</td>\n",
       "      <td>1.0</td>\n",
       "      <td>0.0</td>\n",
       "      <td>1.0</td>\n",
       "    </tr>\n",
       "    <tr>\n",
       "      <th>7</th>\n",
       "      <td>0.970608</td>\n",
       "      <td>0.0</td>\n",
       "      <td>0.00</td>\n",
       "      <td>1.0</td>\n",
       "      <td>0.000000</td>\n",
       "      <td>0.0</td>\n",
       "      <td>0.354839</td>\n",
       "      <td>0.777778</td>\n",
       "      <td>0.891667</td>\n",
       "      <td>0.428571</td>\n",
       "      <td>0.00</td>\n",
       "      <td>0.261224</td>\n",
       "      <td>0.433244</td>\n",
       "      <td>0.118653</td>\n",
       "      <td>0.785714</td>\n",
       "      <td>0.166667</td>\n",
       "      <td>0.166667</td>\n",
       "      <td>1.0</td>\n",
       "      <td>1.0</td>\n",
       "      <td>1.0</td>\n",
       "    </tr>\n",
       "    <tr>\n",
       "      <th>8</th>\n",
       "      <td>0.630595</td>\n",
       "      <td>1.0</td>\n",
       "      <td>0.00</td>\n",
       "      <td>0.0</td>\n",
       "      <td>0.000000</td>\n",
       "      <td>0.0</td>\n",
       "      <td>0.822581</td>\n",
       "      <td>0.666667</td>\n",
       "      <td>0.783333</td>\n",
       "      <td>0.857143</td>\n",
       "      <td>0.70</td>\n",
       "      <td>0.196939</td>\n",
       "      <td>0.224299</td>\n",
       "      <td>0.225281</td>\n",
       "      <td>0.857143</td>\n",
       "      <td>0.055556</td>\n",
       "      <td>1.000000</td>\n",
       "      <td>1.0</td>\n",
       "      <td>0.0</td>\n",
       "      <td>0.0</td>\n",
       "    </tr>\n",
       "    <tr>\n",
       "      <th>9</th>\n",
       "      <td>0.005344</td>\n",
       "      <td>1.0</td>\n",
       "      <td>0.04</td>\n",
       "      <td>1.0</td>\n",
       "      <td>0.105263</td>\n",
       "      <td>1.0</td>\n",
       "      <td>0.112903</td>\n",
       "      <td>0.000000</td>\n",
       "      <td>0.108333</td>\n",
       "      <td>0.571429</td>\n",
       "      <td>0.75</td>\n",
       "      <td>0.580102</td>\n",
       "      <td>0.483311</td>\n",
       "      <td>0.068680</td>\n",
       "      <td>1.000000</td>\n",
       "      <td>0.555556</td>\n",
       "      <td>0.555556</td>\n",
       "      <td>1.0</td>\n",
       "      <td>0.0</td>\n",
       "      <td>0.0</td>\n",
       "    </tr>\n",
       "  </tbody>\n",
       "</table>\n",
       "</div>"
      ],
      "text/plain": [
       "   battery_power  blue  clock_speed  dual_sim        fc  four_g  int_memory  \\\n",
       "0       0.227789   0.0         0.68       0.0  0.052632     0.0    0.080645   \n",
       "1       0.347361   1.0         0.00       1.0  0.000000     1.0    0.822581   \n",
       "2       0.041416   1.0         0.00       1.0  0.105263     1.0    0.629032   \n",
       "3       0.076152   1.0         0.80       0.0  0.000000     0.0    0.129032   \n",
       "4       0.881764   1.0         0.28       0.0  0.684211     1.0    0.677419   \n",
       "5       0.907148   0.0         0.00       1.0  0.157895     0.0    0.322581   \n",
       "6       0.881764   0.0         0.48       0.0  0.210526     1.0    0.129032   \n",
       "7       0.970608   0.0         0.00       1.0  0.000000     0.0    0.354839   \n",
       "8       0.630595   1.0         0.00       0.0  0.000000     0.0    0.822581   \n",
       "9       0.005344   1.0         0.04       1.0  0.105263     1.0    0.112903   \n",
       "\n",
       "      m_dep  mobile_wt   n_cores    pc  px_height  px_width       ram  \\\n",
       "0  0.555556   0.900000  0.142857  0.10   0.010204  0.170895  0.612774   \n",
       "1  0.666667   0.466667  0.285714  0.30   0.461735  0.993324  0.634687   \n",
       "2  0.888889   0.541667  0.571429  0.30   0.644388  0.811749  0.627205   \n",
       "3  0.777778   0.425000  0.714286  0.45   0.620408  0.858478  0.671566   \n",
       "4  0.555556   0.508333  0.142857  0.70   0.616327  0.475300  0.308658   \n",
       "5  0.666667   0.700000  0.000000  0.35   0.512245  0.770360  0.216729   \n",
       "6  0.777778   0.491667  1.000000  0.50   0.194388  0.345794  0.792090   \n",
       "7  0.777778   0.891667  0.428571  0.00   0.261224  0.433244  0.118653   \n",
       "8  0.666667   0.783333  0.857143  0.70   0.196939  0.224299  0.225281   \n",
       "9  0.000000   0.108333  0.571429  0.75   0.580102  0.483311  0.068680   \n",
       "\n",
       "       sc_h      sc_w  talk_time  three_g  touch_screen  wifi  \n",
       "0  0.285714  0.388889   0.944444      0.0           0.0   1.0  \n",
       "1  0.857143  0.166667   0.277778      1.0           1.0   0.0  \n",
       "2  0.428571  0.111111   0.388889      1.0           1.0   0.0  \n",
       "3  0.785714  0.444444   0.500000      1.0           0.0   0.0  \n",
       "4  0.214286  0.111111   0.722222      1.0           1.0   0.0  \n",
       "5  0.857143  0.055556   0.444444      1.0           0.0   0.0  \n",
       "6  0.571429  0.444444   0.888889      1.0           0.0   1.0  \n",
       "7  0.785714  0.166667   0.166667      1.0           1.0   1.0  \n",
       "8  0.857143  0.055556   1.000000      1.0           0.0   0.0  \n",
       "9  1.000000  0.555556   0.555556      1.0           0.0   0.0  "
      ]
     },
     "execution_count": 9,
     "metadata": {},
     "output_type": "execute_result"
    }
   ],
   "source": [
    "from sklearn.preprocessing import MinMaxScaler\n",
    "\n",
    "scaled_norm = MinMaxScaler()\n",
    "scaled_norm = pd.DataFrame(scaled_norm.fit_transform(x),columns = data1.columns[:-1])\n",
    "scaled_norm.head(10)"
   ]
  },
  {
   "cell_type": "markdown",
   "metadata": {},
   "source": [
    "SO I SCALED THE FEATURES "
   ]
  },
  {
   "cell_type": "markdown",
   "metadata": {},
   "source": [
    "NOW FEATURE'S VALUES IS BETWEEN 0 AND 1 (INCLUDING 0 AND 1)"
   ]
  },
  {
   "cell_type": "markdown",
   "metadata": {},
   "source": [
    "ADDING OUTPUT FEATURE TO THE scaled_norm data frame "
   ]
  },
  {
   "cell_type": "code",
   "execution_count": 12,
   "metadata": {},
   "outputs": [],
   "source": [
    "scaled_norm['price_range'] = data1.price_range"
   ]
  },
  {
   "cell_type": "code",
   "execution_count": 13,
   "metadata": {},
   "outputs": [
    {
     "data": {
      "text/html": [
       "<div>\n",
       "<style scoped>\n",
       "    .dataframe tbody tr th:only-of-type {\n",
       "        vertical-align: middle;\n",
       "    }\n",
       "\n",
       "    .dataframe tbody tr th {\n",
       "        vertical-align: top;\n",
       "    }\n",
       "\n",
       "    .dataframe thead th {\n",
       "        text-align: right;\n",
       "    }\n",
       "</style>\n",
       "<table border=\"1\" class=\"dataframe\">\n",
       "  <thead>\n",
       "    <tr style=\"text-align: right;\">\n",
       "      <th></th>\n",
       "      <th>battery_power</th>\n",
       "      <th>blue</th>\n",
       "      <th>clock_speed</th>\n",
       "      <th>dual_sim</th>\n",
       "      <th>fc</th>\n",
       "      <th>four_g</th>\n",
       "      <th>int_memory</th>\n",
       "      <th>m_dep</th>\n",
       "      <th>mobile_wt</th>\n",
       "      <th>n_cores</th>\n",
       "      <th>...</th>\n",
       "      <th>px_height</th>\n",
       "      <th>px_width</th>\n",
       "      <th>ram</th>\n",
       "      <th>sc_h</th>\n",
       "      <th>sc_w</th>\n",
       "      <th>talk_time</th>\n",
       "      <th>three_g</th>\n",
       "      <th>touch_screen</th>\n",
       "      <th>wifi</th>\n",
       "      <th>price_range</th>\n",
       "    </tr>\n",
       "  </thead>\n",
       "  <tbody>\n",
       "    <tr>\n",
       "      <th>0</th>\n",
       "      <td>0.227789</td>\n",
       "      <td>0.0</td>\n",
       "      <td>0.68</td>\n",
       "      <td>0.0</td>\n",
       "      <td>0.052632</td>\n",
       "      <td>0.0</td>\n",
       "      <td>0.080645</td>\n",
       "      <td>0.555556</td>\n",
       "      <td>0.900000</td>\n",
       "      <td>0.142857</td>\n",
       "      <td>...</td>\n",
       "      <td>0.010204</td>\n",
       "      <td>0.170895</td>\n",
       "      <td>0.612774</td>\n",
       "      <td>0.285714</td>\n",
       "      <td>0.388889</td>\n",
       "      <td>0.944444</td>\n",
       "      <td>0.0</td>\n",
       "      <td>0.0</td>\n",
       "      <td>1.0</td>\n",
       "      <td>1</td>\n",
       "    </tr>\n",
       "    <tr>\n",
       "      <th>1</th>\n",
       "      <td>0.347361</td>\n",
       "      <td>1.0</td>\n",
       "      <td>0.00</td>\n",
       "      <td>1.0</td>\n",
       "      <td>0.000000</td>\n",
       "      <td>1.0</td>\n",
       "      <td>0.822581</td>\n",
       "      <td>0.666667</td>\n",
       "      <td>0.466667</td>\n",
       "      <td>0.285714</td>\n",
       "      <td>...</td>\n",
       "      <td>0.461735</td>\n",
       "      <td>0.993324</td>\n",
       "      <td>0.634687</td>\n",
       "      <td>0.857143</td>\n",
       "      <td>0.166667</td>\n",
       "      <td>0.277778</td>\n",
       "      <td>1.0</td>\n",
       "      <td>1.0</td>\n",
       "      <td>0.0</td>\n",
       "      <td>2</td>\n",
       "    </tr>\n",
       "    <tr>\n",
       "      <th>2</th>\n",
       "      <td>0.041416</td>\n",
       "      <td>1.0</td>\n",
       "      <td>0.00</td>\n",
       "      <td>1.0</td>\n",
       "      <td>0.105263</td>\n",
       "      <td>1.0</td>\n",
       "      <td>0.629032</td>\n",
       "      <td>0.888889</td>\n",
       "      <td>0.541667</td>\n",
       "      <td>0.571429</td>\n",
       "      <td>...</td>\n",
       "      <td>0.644388</td>\n",
       "      <td>0.811749</td>\n",
       "      <td>0.627205</td>\n",
       "      <td>0.428571</td>\n",
       "      <td>0.111111</td>\n",
       "      <td>0.388889</td>\n",
       "      <td>1.0</td>\n",
       "      <td>1.0</td>\n",
       "      <td>0.0</td>\n",
       "      <td>2</td>\n",
       "    </tr>\n",
       "    <tr>\n",
       "      <th>3</th>\n",
       "      <td>0.076152</td>\n",
       "      <td>1.0</td>\n",
       "      <td>0.80</td>\n",
       "      <td>0.0</td>\n",
       "      <td>0.000000</td>\n",
       "      <td>0.0</td>\n",
       "      <td>0.129032</td>\n",
       "      <td>0.777778</td>\n",
       "      <td>0.425000</td>\n",
       "      <td>0.714286</td>\n",
       "      <td>...</td>\n",
       "      <td>0.620408</td>\n",
       "      <td>0.858478</td>\n",
       "      <td>0.671566</td>\n",
       "      <td>0.785714</td>\n",
       "      <td>0.444444</td>\n",
       "      <td>0.500000</td>\n",
       "      <td>1.0</td>\n",
       "      <td>0.0</td>\n",
       "      <td>0.0</td>\n",
       "      <td>2</td>\n",
       "    </tr>\n",
       "    <tr>\n",
       "      <th>4</th>\n",
       "      <td>0.881764</td>\n",
       "      <td>1.0</td>\n",
       "      <td>0.28</td>\n",
       "      <td>0.0</td>\n",
       "      <td>0.684211</td>\n",
       "      <td>1.0</td>\n",
       "      <td>0.677419</td>\n",
       "      <td>0.555556</td>\n",
       "      <td>0.508333</td>\n",
       "      <td>0.142857</td>\n",
       "      <td>...</td>\n",
       "      <td>0.616327</td>\n",
       "      <td>0.475300</td>\n",
       "      <td>0.308658</td>\n",
       "      <td>0.214286</td>\n",
       "      <td>0.111111</td>\n",
       "      <td>0.722222</td>\n",
       "      <td>1.0</td>\n",
       "      <td>1.0</td>\n",
       "      <td>0.0</td>\n",
       "      <td>1</td>\n",
       "    </tr>\n",
       "    <tr>\n",
       "      <th>5</th>\n",
       "      <td>0.907148</td>\n",
       "      <td>0.0</td>\n",
       "      <td>0.00</td>\n",
       "      <td>1.0</td>\n",
       "      <td>0.157895</td>\n",
       "      <td>0.0</td>\n",
       "      <td>0.322581</td>\n",
       "      <td>0.666667</td>\n",
       "      <td>0.700000</td>\n",
       "      <td>0.000000</td>\n",
       "      <td>...</td>\n",
       "      <td>0.512245</td>\n",
       "      <td>0.770360</td>\n",
       "      <td>0.216729</td>\n",
       "      <td>0.857143</td>\n",
       "      <td>0.055556</td>\n",
       "      <td>0.444444</td>\n",
       "      <td>1.0</td>\n",
       "      <td>0.0</td>\n",
       "      <td>0.0</td>\n",
       "      <td>1</td>\n",
       "    </tr>\n",
       "    <tr>\n",
       "      <th>6</th>\n",
       "      <td>0.881764</td>\n",
       "      <td>0.0</td>\n",
       "      <td>0.48</td>\n",
       "      <td>0.0</td>\n",
       "      <td>0.210526</td>\n",
       "      <td>1.0</td>\n",
       "      <td>0.129032</td>\n",
       "      <td>0.777778</td>\n",
       "      <td>0.491667</td>\n",
       "      <td>1.000000</td>\n",
       "      <td>...</td>\n",
       "      <td>0.194388</td>\n",
       "      <td>0.345794</td>\n",
       "      <td>0.792090</td>\n",
       "      <td>0.571429</td>\n",
       "      <td>0.444444</td>\n",
       "      <td>0.888889</td>\n",
       "      <td>1.0</td>\n",
       "      <td>0.0</td>\n",
       "      <td>1.0</td>\n",
       "      <td>3</td>\n",
       "    </tr>\n",
       "    <tr>\n",
       "      <th>7</th>\n",
       "      <td>0.970608</td>\n",
       "      <td>0.0</td>\n",
       "      <td>0.00</td>\n",
       "      <td>1.0</td>\n",
       "      <td>0.000000</td>\n",
       "      <td>0.0</td>\n",
       "      <td>0.354839</td>\n",
       "      <td>0.777778</td>\n",
       "      <td>0.891667</td>\n",
       "      <td>0.428571</td>\n",
       "      <td>...</td>\n",
       "      <td>0.261224</td>\n",
       "      <td>0.433244</td>\n",
       "      <td>0.118653</td>\n",
       "      <td>0.785714</td>\n",
       "      <td>0.166667</td>\n",
       "      <td>0.166667</td>\n",
       "      <td>1.0</td>\n",
       "      <td>1.0</td>\n",
       "      <td>1.0</td>\n",
       "      <td>0</td>\n",
       "    </tr>\n",
       "    <tr>\n",
       "      <th>8</th>\n",
       "      <td>0.630595</td>\n",
       "      <td>1.0</td>\n",
       "      <td>0.00</td>\n",
       "      <td>0.0</td>\n",
       "      <td>0.000000</td>\n",
       "      <td>0.0</td>\n",
       "      <td>0.822581</td>\n",
       "      <td>0.666667</td>\n",
       "      <td>0.783333</td>\n",
       "      <td>0.857143</td>\n",
       "      <td>...</td>\n",
       "      <td>0.196939</td>\n",
       "      <td>0.224299</td>\n",
       "      <td>0.225281</td>\n",
       "      <td>0.857143</td>\n",
       "      <td>0.055556</td>\n",
       "      <td>1.000000</td>\n",
       "      <td>1.0</td>\n",
       "      <td>0.0</td>\n",
       "      <td>0.0</td>\n",
       "      <td>0</td>\n",
       "    </tr>\n",
       "    <tr>\n",
       "      <th>9</th>\n",
       "      <td>0.005344</td>\n",
       "      <td>1.0</td>\n",
       "      <td>0.04</td>\n",
       "      <td>1.0</td>\n",
       "      <td>0.105263</td>\n",
       "      <td>1.0</td>\n",
       "      <td>0.112903</td>\n",
       "      <td>0.000000</td>\n",
       "      <td>0.108333</td>\n",
       "      <td>0.571429</td>\n",
       "      <td>...</td>\n",
       "      <td>0.580102</td>\n",
       "      <td>0.483311</td>\n",
       "      <td>0.068680</td>\n",
       "      <td>1.000000</td>\n",
       "      <td>0.555556</td>\n",
       "      <td>0.555556</td>\n",
       "      <td>1.0</td>\n",
       "      <td>0.0</td>\n",
       "      <td>0.0</td>\n",
       "      <td>0</td>\n",
       "    </tr>\n",
       "  </tbody>\n",
       "</table>\n",
       "<p>10 rows × 21 columns</p>\n",
       "</div>"
      ],
      "text/plain": [
       "   battery_power  blue  clock_speed  dual_sim        fc  four_g  int_memory  \\\n",
       "0       0.227789   0.0         0.68       0.0  0.052632     0.0    0.080645   \n",
       "1       0.347361   1.0         0.00       1.0  0.000000     1.0    0.822581   \n",
       "2       0.041416   1.0         0.00       1.0  0.105263     1.0    0.629032   \n",
       "3       0.076152   1.0         0.80       0.0  0.000000     0.0    0.129032   \n",
       "4       0.881764   1.0         0.28       0.0  0.684211     1.0    0.677419   \n",
       "5       0.907148   0.0         0.00       1.0  0.157895     0.0    0.322581   \n",
       "6       0.881764   0.0         0.48       0.0  0.210526     1.0    0.129032   \n",
       "7       0.970608   0.0         0.00       1.0  0.000000     0.0    0.354839   \n",
       "8       0.630595   1.0         0.00       0.0  0.000000     0.0    0.822581   \n",
       "9       0.005344   1.0         0.04       1.0  0.105263     1.0    0.112903   \n",
       "\n",
       "      m_dep  mobile_wt   n_cores  ...  px_height  px_width       ram  \\\n",
       "0  0.555556   0.900000  0.142857  ...   0.010204  0.170895  0.612774   \n",
       "1  0.666667   0.466667  0.285714  ...   0.461735  0.993324  0.634687   \n",
       "2  0.888889   0.541667  0.571429  ...   0.644388  0.811749  0.627205   \n",
       "3  0.777778   0.425000  0.714286  ...   0.620408  0.858478  0.671566   \n",
       "4  0.555556   0.508333  0.142857  ...   0.616327  0.475300  0.308658   \n",
       "5  0.666667   0.700000  0.000000  ...   0.512245  0.770360  0.216729   \n",
       "6  0.777778   0.491667  1.000000  ...   0.194388  0.345794  0.792090   \n",
       "7  0.777778   0.891667  0.428571  ...   0.261224  0.433244  0.118653   \n",
       "8  0.666667   0.783333  0.857143  ...   0.196939  0.224299  0.225281   \n",
       "9  0.000000   0.108333  0.571429  ...   0.580102  0.483311  0.068680   \n",
       "\n",
       "       sc_h      sc_w  talk_time  three_g  touch_screen  wifi  price_range  \n",
       "0  0.285714  0.388889   0.944444      0.0           0.0   1.0            1  \n",
       "1  0.857143  0.166667   0.277778      1.0           1.0   0.0            2  \n",
       "2  0.428571  0.111111   0.388889      1.0           1.0   0.0            2  \n",
       "3  0.785714  0.444444   0.500000      1.0           0.0   0.0            2  \n",
       "4  0.214286  0.111111   0.722222      1.0           1.0   0.0            1  \n",
       "5  0.857143  0.055556   0.444444      1.0           0.0   0.0            1  \n",
       "6  0.571429  0.444444   0.888889      1.0           0.0   1.0            3  \n",
       "7  0.785714  0.166667   0.166667      1.0           1.0   1.0            0  \n",
       "8  0.857143  0.055556   1.000000      1.0           0.0   0.0            0  \n",
       "9  1.000000  0.555556   0.555556      1.0           0.0   0.0            0  \n",
       "\n",
       "[10 rows x 21 columns]"
      ]
     },
     "execution_count": 13,
     "metadata": {},
     "output_type": "execute_result"
    }
   ],
   "source": [
    "scaled_norm.head(10)"
   ]
  },
  {
   "cell_type": "markdown",
   "metadata": {},
   "source": [
    "LET'S SPLIT DATASET INTO TRAIN AND TEST DATASET"
   ]
  },
  {
   "cell_type": "code",
   "execution_count": 14,
   "metadata": {},
   "outputs": [],
   "source": [
    "##splitting into 80:20\n",
    "\n",
    "from sklearn.model_selection import train_test_split\n",
    "\n",
    "x_train,x_test,y_train,y_test = train_test_split(scaled_norm.drop('price_range',axis=1),scaled_norm['price_range'],test_size = 0.2,random_state =0)"
   ]
  },
  {
   "cell_type": "code",
   "execution_count": 15,
   "metadata": {},
   "outputs": [
    {
     "data": {
      "text/plain": [
       "(1600, 20)"
      ]
     },
     "execution_count": 15,
     "metadata": {},
     "output_type": "execute_result"
    }
   ],
   "source": [
    "x_train.shape"
   ]
  },
  {
   "cell_type": "code",
   "execution_count": 16,
   "metadata": {},
   "outputs": [
    {
     "data": {
      "text/plain": [
       "(400, 20)"
      ]
     },
     "execution_count": 16,
     "metadata": {},
     "output_type": "execute_result"
    }
   ],
   "source": [
    "x_test.shape"
   ]
  },
  {
   "cell_type": "markdown",
   "metadata": {},
   "source": [
    "### Step -4 Feature Selection\n",
    "\n",
    "1-> REMOVE THE LOW VARIANCE FEATURES\n",
    "\n",
    "2-> CHECK THE PEARSON RELATIONSHIP BETWWEN THE INDEPENDENT FEATURES\n",
    "\n",
    "3-> TO SELECT ON BASIS OF MUTUAL GAIN HAVING CLASSIFIER O/P\n",
    "\n",
    "4-> TO SELECT ON BASIS OF MUTUAL GAIN HAVING REGRESSOR O/P\n",
    "\n",
    "5-> TO SELECT ON BASIS OF FIESCHER TEST\n",
    "\n",
    "6-> FEATURE IMPORTANCE "
   ]
  },
  {
   "cell_type": "markdown",
   "metadata": {},
   "source": [
    "#### WAY - 1 REMOVE LOW VARIANCE FEATURES"
   ]
  },
  {
   "cell_type": "code",
   "execution_count": 17,
   "metadata": {},
   "outputs": [
    {
     "data": {
      "text/plain": [
       "Index(['battery_power', 'blue', 'clock_speed', 'dual_sim', 'fc', 'four_g',\n",
       "       'int_memory', 'm_dep', 'mobile_wt', 'n_cores', 'pc', 'px_height',\n",
       "       'px_width', 'ram', 'sc_h', 'sc_w', 'talk_time', 'three_g',\n",
       "       'touch_screen', 'wifi'],\n",
       "      dtype='object')"
      ]
     },
     "execution_count": 17,
     "metadata": {},
     "output_type": "execute_result"
    }
   ],
   "source": [
    "from sklearn.feature_selection import VarianceThreshold\n",
    "\n",
    "var_thresh = VarianceThreshold()\n",
    "var_thresh.fit(x_train,y_train)\n",
    "x_train.columns[var_thresh.get_support()]"
   ]
  },
  {
   "cell_type": "markdown",
   "metadata": {},
   "source": [
    "THIS SHOWS NO ONE HAS LOW VARIANCE"
   ]
  },
  {
   "cell_type": "markdown",
   "metadata": {},
   "source": [
    "#### WAY - 2 CHECK RELATION BETWEEN INDEPENDENT VARIABLES "
   ]
  },
  {
   "cell_type": "markdown",
   "metadata": {},
   "source": [
    "RELATIONSHIP BETWWEN INDEPENDENT FEATURES"
   ]
  },
  {
   "cell_type": "code",
   "execution_count": 18,
   "metadata": {},
   "outputs": [
    {
     "data": {
      "text/html": [
       "<div>\n",
       "<style scoped>\n",
       "    .dataframe tbody tr th:only-of-type {\n",
       "        vertical-align: middle;\n",
       "    }\n",
       "\n",
       "    .dataframe tbody tr th {\n",
       "        vertical-align: top;\n",
       "    }\n",
       "\n",
       "    .dataframe thead th {\n",
       "        text-align: right;\n",
       "    }\n",
       "</style>\n",
       "<table border=\"1\" class=\"dataframe\">\n",
       "  <thead>\n",
       "    <tr style=\"text-align: right;\">\n",
       "      <th></th>\n",
       "      <th>battery_power</th>\n",
       "      <th>blue</th>\n",
       "      <th>clock_speed</th>\n",
       "      <th>dual_sim</th>\n",
       "      <th>fc</th>\n",
       "      <th>four_g</th>\n",
       "      <th>int_memory</th>\n",
       "      <th>m_dep</th>\n",
       "      <th>mobile_wt</th>\n",
       "      <th>n_cores</th>\n",
       "      <th>pc</th>\n",
       "      <th>px_height</th>\n",
       "      <th>px_width</th>\n",
       "      <th>ram</th>\n",
       "      <th>sc_h</th>\n",
       "      <th>sc_w</th>\n",
       "      <th>talk_time</th>\n",
       "      <th>three_g</th>\n",
       "      <th>touch_screen</th>\n",
       "      <th>wifi</th>\n",
       "    </tr>\n",
       "  </thead>\n",
       "  <tbody>\n",
       "    <tr>\n",
       "      <th>battery_power</th>\n",
       "      <td>1.000000</td>\n",
       "      <td>0.010458</td>\n",
       "      <td>-0.010598</td>\n",
       "      <td>-0.043354</td>\n",
       "      <td>0.032715</td>\n",
       "      <td>0.020508</td>\n",
       "      <td>-0.009002</td>\n",
       "      <td>0.034707</td>\n",
       "      <td>-0.003179</td>\n",
       "      <td>0.019731</td>\n",
       "      <td>0.020406</td>\n",
       "      <td>0.017076</td>\n",
       "      <td>-0.006008</td>\n",
       "      <td>-0.009150</td>\n",
       "      <td>-0.027405</td>\n",
       "      <td>-0.027801</td>\n",
       "      <td>0.062304</td>\n",
       "      <td>0.017268</td>\n",
       "      <td>-0.001153</td>\n",
       "      <td>-0.004483</td>\n",
       "    </tr>\n",
       "    <tr>\n",
       "      <th>blue</th>\n",
       "      <td>0.010458</td>\n",
       "      <td>1.000000</td>\n",
       "      <td>0.015063</td>\n",
       "      <td>0.031842</td>\n",
       "      <td>0.030418</td>\n",
       "      <td>0.014594</td>\n",
       "      <td>0.033523</td>\n",
       "      <td>-0.002841</td>\n",
       "      <td>-0.013677</td>\n",
       "      <td>0.034514</td>\n",
       "      <td>0.006574</td>\n",
       "      <td>-0.012154</td>\n",
       "      <td>-0.042549</td>\n",
       "      <td>0.035320</td>\n",
       "      <td>-0.001262</td>\n",
       "      <td>0.013211</td>\n",
       "      <td>0.004029</td>\n",
       "      <td>-0.030005</td>\n",
       "      <td>0.023285</td>\n",
       "      <td>-0.014138</td>\n",
       "    </tr>\n",
       "    <tr>\n",
       "      <th>clock_speed</th>\n",
       "      <td>-0.010598</td>\n",
       "      <td>0.015063</td>\n",
       "      <td>1.000000</td>\n",
       "      <td>-0.002722</td>\n",
       "      <td>0.002617</td>\n",
       "      <td>-0.052252</td>\n",
       "      <td>0.005075</td>\n",
       "      <td>-0.003874</td>\n",
       "      <td>-0.014589</td>\n",
       "      <td>0.005265</td>\n",
       "      <td>-0.012487</td>\n",
       "      <td>-0.027630</td>\n",
       "      <td>-0.011592</td>\n",
       "      <td>0.004078</td>\n",
       "      <td>-0.037809</td>\n",
       "      <td>-0.001768</td>\n",
       "      <td>-0.003051</td>\n",
       "      <td>-0.047452</td>\n",
       "      <td>0.015020</td>\n",
       "      <td>-0.042348</td>\n",
       "    </tr>\n",
       "    <tr>\n",
       "      <th>dual_sim</th>\n",
       "      <td>-0.043354</td>\n",
       "      <td>0.031842</td>\n",
       "      <td>-0.002722</td>\n",
       "      <td>1.000000</td>\n",
       "      <td>-0.042541</td>\n",
       "      <td>-0.000386</td>\n",
       "      <td>-0.031895</td>\n",
       "      <td>-0.014072</td>\n",
       "      <td>0.005609</td>\n",
       "      <td>-0.025906</td>\n",
       "      <td>-0.030417</td>\n",
       "      <td>-0.011655</td>\n",
       "      <td>0.016823</td>\n",
       "      <td>0.037883</td>\n",
       "      <td>-0.010797</td>\n",
       "      <td>-0.009144</td>\n",
       "      <td>-0.043238</td>\n",
       "      <td>-0.018555</td>\n",
       "      <td>-0.022282</td>\n",
       "      <td>0.045864</td>\n",
       "    </tr>\n",
       "    <tr>\n",
       "      <th>fc</th>\n",
       "      <td>0.032715</td>\n",
       "      <td>0.030418</td>\n",
       "      <td>0.002617</td>\n",
       "      <td>-0.042541</td>\n",
       "      <td>1.000000</td>\n",
       "      <td>-0.012684</td>\n",
       "      <td>-0.026783</td>\n",
       "      <td>-0.020219</td>\n",
       "      <td>0.024096</td>\n",
       "      <td>-0.004624</td>\n",
       "      <td>0.635178</td>\n",
       "      <td>-0.023735</td>\n",
       "      <td>-0.005145</td>\n",
       "      <td>0.009466</td>\n",
       "      <td>-0.020976</td>\n",
       "      <td>-0.005686</td>\n",
       "      <td>0.012942</td>\n",
       "      <td>-0.000363</td>\n",
       "      <td>-0.018058</td>\n",
       "      <td>0.039885</td>\n",
       "    </tr>\n",
       "    <tr>\n",
       "      <th>four_g</th>\n",
       "      <td>0.020508</td>\n",
       "      <td>0.014594</td>\n",
       "      <td>-0.052252</td>\n",
       "      <td>-0.000386</td>\n",
       "      <td>-0.012684</td>\n",
       "      <td>1.000000</td>\n",
       "      <td>0.002975</td>\n",
       "      <td>-0.008002</td>\n",
       "      <td>-0.020647</td>\n",
       "      <td>-0.039688</td>\n",
       "      <td>-0.009383</td>\n",
       "      <td>-0.014683</td>\n",
       "      <td>0.016999</td>\n",
       "      <td>-0.006799</td>\n",
       "      <td>0.013480</td>\n",
       "      <td>0.025315</td>\n",
       "      <td>-0.031618</td>\n",
       "      <td>0.578418</td>\n",
       "      <td>0.032839</td>\n",
       "      <td>-0.009349</td>\n",
       "    </tr>\n",
       "    <tr>\n",
       "      <th>int_memory</th>\n",
       "      <td>-0.009002</td>\n",
       "      <td>0.033523</td>\n",
       "      <td>0.005075</td>\n",
       "      <td>-0.031895</td>\n",
       "      <td>-0.026783</td>\n",
       "      <td>0.002975</td>\n",
       "      <td>1.000000</td>\n",
       "      <td>-0.004534</td>\n",
       "      <td>-0.034186</td>\n",
       "      <td>-0.034209</td>\n",
       "      <td>-0.016490</td>\n",
       "      <td>-0.000976</td>\n",
       "      <td>-0.018514</td>\n",
       "      <td>0.044134</td>\n",
       "      <td>0.029094</td>\n",
       "      <td>0.004877</td>\n",
       "      <td>0.010259</td>\n",
       "      <td>-0.003715</td>\n",
       "      <td>-0.049438</td>\n",
       "      <td>0.010829</td>\n",
       "    </tr>\n",
       "    <tr>\n",
       "      <th>m_dep</th>\n",
       "      <td>0.034707</td>\n",
       "      <td>-0.002841</td>\n",
       "      <td>-0.003874</td>\n",
       "      <td>-0.014072</td>\n",
       "      <td>-0.020219</td>\n",
       "      <td>-0.008002</td>\n",
       "      <td>-0.004534</td>\n",
       "      <td>1.000000</td>\n",
       "      <td>0.028306</td>\n",
       "      <td>0.004624</td>\n",
       "      <td>0.025757</td>\n",
       "      <td>0.034968</td>\n",
       "      <td>0.022862</td>\n",
       "      <td>-0.002356</td>\n",
       "      <td>-0.014470</td>\n",
       "      <td>-0.014818</td>\n",
       "      <td>0.029997</td>\n",
       "      <td>-0.007955</td>\n",
       "      <td>-0.000659</td>\n",
       "      <td>-0.019703</td>\n",
       "    </tr>\n",
       "    <tr>\n",
       "      <th>mobile_wt</th>\n",
       "      <td>-0.003179</td>\n",
       "      <td>-0.013677</td>\n",
       "      <td>-0.014589</td>\n",
       "      <td>0.005609</td>\n",
       "      <td>0.024096</td>\n",
       "      <td>-0.020647</td>\n",
       "      <td>-0.034186</td>\n",
       "      <td>0.028306</td>\n",
       "      <td>1.000000</td>\n",
       "      <td>-0.011986</td>\n",
       "      <td>0.032316</td>\n",
       "      <td>0.004612</td>\n",
       "      <td>0.016343</td>\n",
       "      <td>-0.002199</td>\n",
       "      <td>-0.022960</td>\n",
       "      <td>-0.016157</td>\n",
       "      <td>-0.010605</td>\n",
       "      <td>0.007794</td>\n",
       "      <td>-0.008882</td>\n",
       "      <td>0.001727</td>\n",
       "    </tr>\n",
       "    <tr>\n",
       "      <th>n_cores</th>\n",
       "      <td>0.019731</td>\n",
       "      <td>0.034514</td>\n",
       "      <td>0.005265</td>\n",
       "      <td>-0.025906</td>\n",
       "      <td>-0.004624</td>\n",
       "      <td>-0.039688</td>\n",
       "      <td>-0.034209</td>\n",
       "      <td>0.004624</td>\n",
       "      <td>-0.011986</td>\n",
       "      <td>1.000000</td>\n",
       "      <td>0.010303</td>\n",
       "      <td>-0.019491</td>\n",
       "      <td>0.026453</td>\n",
       "      <td>0.012695</td>\n",
       "      <td>-0.010207</td>\n",
       "      <td>0.034910</td>\n",
       "      <td>0.005088</td>\n",
       "      <td>-0.016280</td>\n",
       "      <td>0.025346</td>\n",
       "      <td>-0.014116</td>\n",
       "    </tr>\n",
       "    <tr>\n",
       "      <th>pc</th>\n",
       "      <td>0.020406</td>\n",
       "      <td>0.006574</td>\n",
       "      <td>-0.012487</td>\n",
       "      <td>-0.030417</td>\n",
       "      <td>0.635178</td>\n",
       "      <td>-0.009383</td>\n",
       "      <td>-0.016490</td>\n",
       "      <td>0.025757</td>\n",
       "      <td>0.032316</td>\n",
       "      <td>0.010303</td>\n",
       "      <td>1.000000</td>\n",
       "      <td>-0.032194</td>\n",
       "      <td>-0.002565</td>\n",
       "      <td>0.023036</td>\n",
       "      <td>-0.000256</td>\n",
       "      <td>-0.016062</td>\n",
       "      <td>0.024480</td>\n",
       "      <td>-0.013140</td>\n",
       "      <td>-0.014012</td>\n",
       "      <td>0.026924</td>\n",
       "    </tr>\n",
       "    <tr>\n",
       "      <th>px_height</th>\n",
       "      <td>0.017076</td>\n",
       "      <td>-0.012154</td>\n",
       "      <td>-0.027630</td>\n",
       "      <td>-0.011655</td>\n",
       "      <td>-0.023735</td>\n",
       "      <td>-0.014683</td>\n",
       "      <td>-0.000976</td>\n",
       "      <td>0.034968</td>\n",
       "      <td>0.004612</td>\n",
       "      <td>-0.019491</td>\n",
       "      <td>-0.032194</td>\n",
       "      <td>1.000000</td>\n",
       "      <td>0.504994</td>\n",
       "      <td>-0.022382</td>\n",
       "      <td>0.052621</td>\n",
       "      <td>0.039619</td>\n",
       "      <td>-0.002808</td>\n",
       "      <td>-0.021269</td>\n",
       "      <td>0.038065</td>\n",
       "      <td>0.044800</td>\n",
       "    </tr>\n",
       "    <tr>\n",
       "      <th>px_width</th>\n",
       "      <td>-0.006008</td>\n",
       "      <td>-0.042549</td>\n",
       "      <td>-0.011592</td>\n",
       "      <td>0.016823</td>\n",
       "      <td>-0.005145</td>\n",
       "      <td>0.016999</td>\n",
       "      <td>-0.018514</td>\n",
       "      <td>0.022862</td>\n",
       "      <td>0.016343</td>\n",
       "      <td>0.026453</td>\n",
       "      <td>-0.002565</td>\n",
       "      <td>0.504994</td>\n",
       "      <td>1.000000</td>\n",
       "      <td>-0.001098</td>\n",
       "      <td>0.016640</td>\n",
       "      <td>0.040157</td>\n",
       "      <td>-0.009860</td>\n",
       "      <td>0.002008</td>\n",
       "      <td>0.022821</td>\n",
       "      <td>0.032956</td>\n",
       "    </tr>\n",
       "    <tr>\n",
       "      <th>ram</th>\n",
       "      <td>-0.009150</td>\n",
       "      <td>0.035320</td>\n",
       "      <td>0.004078</td>\n",
       "      <td>0.037883</td>\n",
       "      <td>0.009466</td>\n",
       "      <td>-0.006799</td>\n",
       "      <td>0.044134</td>\n",
       "      <td>-0.002356</td>\n",
       "      <td>-0.002199</td>\n",
       "      <td>0.012695</td>\n",
       "      <td>0.023036</td>\n",
       "      <td>-0.022382</td>\n",
       "      <td>-0.001098</td>\n",
       "      <td>1.000000</td>\n",
       "      <td>0.010407</td>\n",
       "      <td>0.028986</td>\n",
       "      <td>-0.004645</td>\n",
       "      <td>-0.003943</td>\n",
       "      <td>-0.056593</td>\n",
       "      <td>0.002119</td>\n",
       "    </tr>\n",
       "    <tr>\n",
       "      <th>sc_h</th>\n",
       "      <td>-0.027405</td>\n",
       "      <td>-0.001262</td>\n",
       "      <td>-0.037809</td>\n",
       "      <td>-0.010797</td>\n",
       "      <td>-0.020976</td>\n",
       "      <td>0.013480</td>\n",
       "      <td>0.029094</td>\n",
       "      <td>-0.014470</td>\n",
       "      <td>-0.022960</td>\n",
       "      <td>-0.010207</td>\n",
       "      <td>-0.000256</td>\n",
       "      <td>0.052621</td>\n",
       "      <td>0.016640</td>\n",
       "      <td>0.010407</td>\n",
       "      <td>1.000000</td>\n",
       "      <td>0.518655</td>\n",
       "      <td>-0.005700</td>\n",
       "      <td>-0.000901</td>\n",
       "      <td>-0.001660</td>\n",
       "      <td>0.022965</td>\n",
       "    </tr>\n",
       "    <tr>\n",
       "      <th>sc_w</th>\n",
       "      <td>-0.027801</td>\n",
       "      <td>0.013211</td>\n",
       "      <td>-0.001768</td>\n",
       "      <td>-0.009144</td>\n",
       "      <td>-0.005686</td>\n",
       "      <td>0.025315</td>\n",
       "      <td>0.004877</td>\n",
       "      <td>-0.014818</td>\n",
       "      <td>-0.016157</td>\n",
       "      <td>0.034910</td>\n",
       "      <td>-0.016062</td>\n",
       "      <td>0.039619</td>\n",
       "      <td>0.040157</td>\n",
       "      <td>0.028986</td>\n",
       "      <td>0.518655</td>\n",
       "      <td>1.000000</td>\n",
       "      <td>-0.011688</td>\n",
       "      <td>0.024122</td>\n",
       "      <td>0.016929</td>\n",
       "      <td>0.033906</td>\n",
       "    </tr>\n",
       "    <tr>\n",
       "      <th>talk_time</th>\n",
       "      <td>0.062304</td>\n",
       "      <td>0.004029</td>\n",
       "      <td>-0.003051</td>\n",
       "      <td>-0.043238</td>\n",
       "      <td>0.012942</td>\n",
       "      <td>-0.031618</td>\n",
       "      <td>0.010259</td>\n",
       "      <td>0.029997</td>\n",
       "      <td>-0.010605</td>\n",
       "      <td>0.005088</td>\n",
       "      <td>0.024480</td>\n",
       "      <td>-0.002808</td>\n",
       "      <td>-0.009860</td>\n",
       "      <td>-0.004645</td>\n",
       "      <td>-0.005700</td>\n",
       "      <td>-0.011688</td>\n",
       "      <td>1.000000</td>\n",
       "      <td>-0.046551</td>\n",
       "      <td>0.030462</td>\n",
       "      <td>-0.006071</td>\n",
       "    </tr>\n",
       "    <tr>\n",
       "      <th>three_g</th>\n",
       "      <td>0.017268</td>\n",
       "      <td>-0.030005</td>\n",
       "      <td>-0.047452</td>\n",
       "      <td>-0.018555</td>\n",
       "      <td>-0.000363</td>\n",
       "      <td>0.578418</td>\n",
       "      <td>-0.003715</td>\n",
       "      <td>-0.007955</td>\n",
       "      <td>0.007794</td>\n",
       "      <td>-0.016280</td>\n",
       "      <td>-0.013140</td>\n",
       "      <td>-0.021269</td>\n",
       "      <td>0.002008</td>\n",
       "      <td>-0.003943</td>\n",
       "      <td>-0.000901</td>\n",
       "      <td>0.024122</td>\n",
       "      <td>-0.046551</td>\n",
       "      <td>1.000000</td>\n",
       "      <td>0.025805</td>\n",
       "      <td>0.009745</td>\n",
       "    </tr>\n",
       "    <tr>\n",
       "      <th>touch_screen</th>\n",
       "      <td>-0.001153</td>\n",
       "      <td>0.023285</td>\n",
       "      <td>0.015020</td>\n",
       "      <td>-0.022282</td>\n",
       "      <td>-0.018058</td>\n",
       "      <td>0.032839</td>\n",
       "      <td>-0.049438</td>\n",
       "      <td>-0.000659</td>\n",
       "      <td>-0.008882</td>\n",
       "      <td>0.025346</td>\n",
       "      <td>-0.014012</td>\n",
       "      <td>0.038065</td>\n",
       "      <td>0.022821</td>\n",
       "      <td>-0.056593</td>\n",
       "      <td>-0.001660</td>\n",
       "      <td>0.016929</td>\n",
       "      <td>0.030462</td>\n",
       "      <td>0.025805</td>\n",
       "      <td>1.000000</td>\n",
       "      <td>0.006596</td>\n",
       "    </tr>\n",
       "    <tr>\n",
       "      <th>wifi</th>\n",
       "      <td>-0.004483</td>\n",
       "      <td>-0.014138</td>\n",
       "      <td>-0.042348</td>\n",
       "      <td>0.045864</td>\n",
       "      <td>0.039885</td>\n",
       "      <td>-0.009349</td>\n",
       "      <td>0.010829</td>\n",
       "      <td>-0.019703</td>\n",
       "      <td>0.001727</td>\n",
       "      <td>-0.014116</td>\n",
       "      <td>0.026924</td>\n",
       "      <td>0.044800</td>\n",
       "      <td>0.032956</td>\n",
       "      <td>0.002119</td>\n",
       "      <td>0.022965</td>\n",
       "      <td>0.033906</td>\n",
       "      <td>-0.006071</td>\n",
       "      <td>0.009745</td>\n",
       "      <td>0.006596</td>\n",
       "      <td>1.000000</td>\n",
       "    </tr>\n",
       "  </tbody>\n",
       "</table>\n",
       "</div>"
      ],
      "text/plain": [
       "               battery_power      blue  clock_speed  dual_sim        fc  \\\n",
       "battery_power       1.000000  0.010458    -0.010598 -0.043354  0.032715   \n",
       "blue                0.010458  1.000000     0.015063  0.031842  0.030418   \n",
       "clock_speed        -0.010598  0.015063     1.000000 -0.002722  0.002617   \n",
       "dual_sim           -0.043354  0.031842    -0.002722  1.000000 -0.042541   \n",
       "fc                  0.032715  0.030418     0.002617 -0.042541  1.000000   \n",
       "four_g              0.020508  0.014594    -0.052252 -0.000386 -0.012684   \n",
       "int_memory         -0.009002  0.033523     0.005075 -0.031895 -0.026783   \n",
       "m_dep               0.034707 -0.002841    -0.003874 -0.014072 -0.020219   \n",
       "mobile_wt          -0.003179 -0.013677    -0.014589  0.005609  0.024096   \n",
       "n_cores             0.019731  0.034514     0.005265 -0.025906 -0.004624   \n",
       "pc                  0.020406  0.006574    -0.012487 -0.030417  0.635178   \n",
       "px_height           0.017076 -0.012154    -0.027630 -0.011655 -0.023735   \n",
       "px_width           -0.006008 -0.042549    -0.011592  0.016823 -0.005145   \n",
       "ram                -0.009150  0.035320     0.004078  0.037883  0.009466   \n",
       "sc_h               -0.027405 -0.001262    -0.037809 -0.010797 -0.020976   \n",
       "sc_w               -0.027801  0.013211    -0.001768 -0.009144 -0.005686   \n",
       "talk_time           0.062304  0.004029    -0.003051 -0.043238  0.012942   \n",
       "three_g             0.017268 -0.030005    -0.047452 -0.018555 -0.000363   \n",
       "touch_screen       -0.001153  0.023285     0.015020 -0.022282 -0.018058   \n",
       "wifi               -0.004483 -0.014138    -0.042348  0.045864  0.039885   \n",
       "\n",
       "                 four_g  int_memory     m_dep  mobile_wt   n_cores        pc  \\\n",
       "battery_power  0.020508   -0.009002  0.034707  -0.003179  0.019731  0.020406   \n",
       "blue           0.014594    0.033523 -0.002841  -0.013677  0.034514  0.006574   \n",
       "clock_speed   -0.052252    0.005075 -0.003874  -0.014589  0.005265 -0.012487   \n",
       "dual_sim      -0.000386   -0.031895 -0.014072   0.005609 -0.025906 -0.030417   \n",
       "fc            -0.012684   -0.026783 -0.020219   0.024096 -0.004624  0.635178   \n",
       "four_g         1.000000    0.002975 -0.008002  -0.020647 -0.039688 -0.009383   \n",
       "int_memory     0.002975    1.000000 -0.004534  -0.034186 -0.034209 -0.016490   \n",
       "m_dep         -0.008002   -0.004534  1.000000   0.028306  0.004624  0.025757   \n",
       "mobile_wt     -0.020647   -0.034186  0.028306   1.000000 -0.011986  0.032316   \n",
       "n_cores       -0.039688   -0.034209  0.004624  -0.011986  1.000000  0.010303   \n",
       "pc            -0.009383   -0.016490  0.025757   0.032316  0.010303  1.000000   \n",
       "px_height     -0.014683   -0.000976  0.034968   0.004612 -0.019491 -0.032194   \n",
       "px_width       0.016999   -0.018514  0.022862   0.016343  0.026453 -0.002565   \n",
       "ram           -0.006799    0.044134 -0.002356  -0.002199  0.012695  0.023036   \n",
       "sc_h           0.013480    0.029094 -0.014470  -0.022960 -0.010207 -0.000256   \n",
       "sc_w           0.025315    0.004877 -0.014818  -0.016157  0.034910 -0.016062   \n",
       "talk_time     -0.031618    0.010259  0.029997  -0.010605  0.005088  0.024480   \n",
       "three_g        0.578418   -0.003715 -0.007955   0.007794 -0.016280 -0.013140   \n",
       "touch_screen   0.032839   -0.049438 -0.000659  -0.008882  0.025346 -0.014012   \n",
       "wifi          -0.009349    0.010829 -0.019703   0.001727 -0.014116  0.026924   \n",
       "\n",
       "               px_height  px_width       ram      sc_h      sc_w  talk_time  \\\n",
       "battery_power   0.017076 -0.006008 -0.009150 -0.027405 -0.027801   0.062304   \n",
       "blue           -0.012154 -0.042549  0.035320 -0.001262  0.013211   0.004029   \n",
       "clock_speed    -0.027630 -0.011592  0.004078 -0.037809 -0.001768  -0.003051   \n",
       "dual_sim       -0.011655  0.016823  0.037883 -0.010797 -0.009144  -0.043238   \n",
       "fc             -0.023735 -0.005145  0.009466 -0.020976 -0.005686   0.012942   \n",
       "four_g         -0.014683  0.016999 -0.006799  0.013480  0.025315  -0.031618   \n",
       "int_memory     -0.000976 -0.018514  0.044134  0.029094  0.004877   0.010259   \n",
       "m_dep           0.034968  0.022862 -0.002356 -0.014470 -0.014818   0.029997   \n",
       "mobile_wt       0.004612  0.016343 -0.002199 -0.022960 -0.016157  -0.010605   \n",
       "n_cores        -0.019491  0.026453  0.012695 -0.010207  0.034910   0.005088   \n",
       "pc             -0.032194 -0.002565  0.023036 -0.000256 -0.016062   0.024480   \n",
       "px_height       1.000000  0.504994 -0.022382  0.052621  0.039619  -0.002808   \n",
       "px_width        0.504994  1.000000 -0.001098  0.016640  0.040157  -0.009860   \n",
       "ram            -0.022382 -0.001098  1.000000  0.010407  0.028986  -0.004645   \n",
       "sc_h            0.052621  0.016640  0.010407  1.000000  0.518655  -0.005700   \n",
       "sc_w            0.039619  0.040157  0.028986  0.518655  1.000000  -0.011688   \n",
       "talk_time      -0.002808 -0.009860 -0.004645 -0.005700 -0.011688   1.000000   \n",
       "three_g        -0.021269  0.002008 -0.003943 -0.000901  0.024122  -0.046551   \n",
       "touch_screen    0.038065  0.022821 -0.056593 -0.001660  0.016929   0.030462   \n",
       "wifi            0.044800  0.032956  0.002119  0.022965  0.033906  -0.006071   \n",
       "\n",
       "                three_g  touch_screen      wifi  \n",
       "battery_power  0.017268     -0.001153 -0.004483  \n",
       "blue          -0.030005      0.023285 -0.014138  \n",
       "clock_speed   -0.047452      0.015020 -0.042348  \n",
       "dual_sim      -0.018555     -0.022282  0.045864  \n",
       "fc            -0.000363     -0.018058  0.039885  \n",
       "four_g         0.578418      0.032839 -0.009349  \n",
       "int_memory    -0.003715     -0.049438  0.010829  \n",
       "m_dep         -0.007955     -0.000659 -0.019703  \n",
       "mobile_wt      0.007794     -0.008882  0.001727  \n",
       "n_cores       -0.016280      0.025346 -0.014116  \n",
       "pc            -0.013140     -0.014012  0.026924  \n",
       "px_height     -0.021269      0.038065  0.044800  \n",
       "px_width       0.002008      0.022821  0.032956  \n",
       "ram           -0.003943     -0.056593  0.002119  \n",
       "sc_h          -0.000901     -0.001660  0.022965  \n",
       "sc_w           0.024122      0.016929  0.033906  \n",
       "talk_time     -0.046551      0.030462 -0.006071  \n",
       "three_g        1.000000      0.025805  0.009745  \n",
       "touch_screen   0.025805      1.000000  0.006596  \n",
       "wifi           0.009745      0.006596  1.000000  "
      ]
     },
     "execution_count": 18,
     "metadata": {},
     "output_type": "execute_result"
    }
   ],
   "source": [
    "x_train.corr()"
   ]
  },
  {
   "cell_type": "code",
   "execution_count": 19,
   "metadata": {},
   "outputs": [
    {
     "data": {
      "image/png": "[encoded data removed]",
      "text/plain": [
       "<Figure size 1008x864 with 2 Axes>"
      ]
     },
     "metadata": {
      "needs_background": "light"
     },
     "output_type": "display_data"
    }
   ],
   "source": [
    "plt.figure(figsize = (14,12))\n",
    "sns.heatmap(x_train.corr(),annot =True)\n",
    "plt.show()"
   ]
  },
  {
   "cell_type": "markdown",
   "metadata": {},
   "source": [
    "FROM PLOT WE CAN SEE THAT MAX TWO FEATURE ARE CORRELATED WITH FRACTION 0.64 WHICH PROVES THAT THEY ARE NOT MUCH RELATED TO EACH OTHER "
   ]
  },
  {
   "cell_type": "markdown",
   "metadata": {},
   "source": [
    "LET'S GO FOR ANOTHER SELECTION WAY"
   ]
  },
  {
   "cell_type": "markdown",
   "metadata": {},
   "source": [
    "#### WAY - 3 SELECTION ON BASIS OF MUTUAL GAIN"
   ]
  },
  {
   "cell_type": "code",
   "execution_count": 20,
   "metadata": {},
   "outputs": [
    {
     "name": "stdout",
     "output_type": "stream",
     "text": [
      "[4.84510383e-02 2.08563583e-02 0.00000000e+00 0.00000000e+00\n",
      " 2.84735694e-02 0.00000000e+00 1.55032937e-02 0.00000000e+00\n",
      " 0.00000000e+00 3.00092465e-04 0.00000000e+00 4.08665902e-02\n",
      " 2.20613400e-02 8.29219689e-01 0.00000000e+00 0.00000000e+00\n",
      " 0.00000000e+00 0.00000000e+00 1.17890538e-02 2.93201133e-02]\n"
     ]
    }
   ],
   "source": [
    "from sklearn.feature_selection import mutual_info_classif\n",
    "\n",
    "mutual_info = mutual_info_classif(x_train,y_train)\n",
    "print(mutual_info)"
   ]
  },
  {
   "cell_type": "code",
   "execution_count": 21,
   "metadata": {
    "scrolled": true
   },
   "outputs": [
    {
     "data": {
      "text/plain": [
       "ram              0.829220\n",
       "battery_power    0.048451\n",
       "px_height        0.040867\n",
       "wifi             0.029320\n",
       "fc               0.028474\n",
       "px_width         0.022061\n",
       "blue             0.020856\n",
       "int_memory       0.015503\n",
       "touch_screen     0.011789\n",
       "n_cores          0.000300\n",
       "sc_w             0.000000\n",
       "sc_h             0.000000\n",
       "talk_time        0.000000\n",
       "three_g          0.000000\n",
       "pc               0.000000\n",
       "mobile_wt        0.000000\n",
       "m_dep            0.000000\n",
       "four_g           0.000000\n",
       "dual_sim         0.000000\n",
       "clock_speed      0.000000\n",
       "dtype: float64"
      ]
     },
     "execution_count": 21,
     "metadata": {},
     "output_type": "execute_result"
    }
   ],
   "source": [
    "mutual_info = pd.Series(mutual_info , index = x_train.columns)\n",
    "mutual_info.sort_values(ascending =False)"
   ]
  },
  {
   "cell_type": "markdown",
   "metadata": {},
   "source": [
    "THIS SHOWS THAT FEATURE WHICH IS HAVING 0 VALUE IMPLIES THAT THAT FEATURE IS OF 0 IMPOTANCE FOR THE O/P"
   ]
  },
  {
   "cell_type": "markdown",
   "metadata": {},
   "source": [
    "THIS IS THE RANK OF THE FEATURE FROM HIGHER TO LOWER WICH ARE IMPORTANT WHILE PREDICTING THE OUTPUT"
   ]
  },
  {
   "cell_type": "markdown",
   "metadata": {},
   "source": [
    "ram FEATURE IS VERY IMPORTANT WHILE PREDICTING THE O/P"
   ]
  },
  {
   "cell_type": "code",
   "execution_count": 22,
   "metadata": {},
   "outputs": [
    {
     "data": {
      "text/plain": [
       "<AxesSubplot:>"
      ]
     },
     "execution_count": 22,
     "metadata": {},
     "output_type": "execute_result"
    },
    {
     "data": {
      "image/png": "[encoded data removed]",
      "text/plain": [
       "<Figure size 432x288 with 1 Axes>"
      ]
     },
     "metadata": {
      "needs_background": "light"
     },
     "output_type": "display_data"
    }
   ],
   "source": [
    "mutual_info.sort_values(ascending =False).plot.bar()"
   ]
  },
  {
   "cell_type": "markdown",
   "metadata": {},
   "source": [
    "NOW AM GOING TO SELECT THE FEATURES WHO HAS MORE IMPORTANCE "
   ]
  },
  {
   "cell_type": "code",
   "execution_count": 23,
   "metadata": {},
   "outputs": [],
   "source": [
    "select = {column : round(mutual_info[column],5) for column in mutual_info.keys() if mutual_info[column]>0 }"
   ]
  },
  {
   "cell_type": "code",
   "execution_count": 24,
   "metadata": {
    "scrolled": true
   },
   "outputs": [
    {
     "data": {
      "text/plain": [
       "{'battery_power': 0.04845,\n",
       " 'blue': 0.02086,\n",
       " 'fc': 0.02847,\n",
       " 'int_memory': 0.0155,\n",
       " 'n_cores': 0.0003,\n",
       " 'px_height': 0.04087,\n",
       " 'px_width': 0.02206,\n",
       " 'ram': 0.82922,\n",
       " 'touch_screen': 0.01179,\n",
       " 'wifi': 0.02932}"
      ]
     },
     "execution_count": 24,
     "metadata": {},
     "output_type": "execute_result"
    }
   ],
   "source": [
    "select"
   ]
  },
  {
   "cell_type": "markdown",
   "metadata": {},
   "source": [
    "LIST OF ELEMENTS HAVING LOW IMPORTANCE "
   ]
  },
  {
   "cell_type": "code",
   "execution_count": 25,
   "metadata": {},
   "outputs": [],
   "source": [
    "remove = [column for column in mutual_info.keys() if column not in select]"
   ]
  },
  {
   "cell_type": "code",
   "execution_count": 26,
   "metadata": {},
   "outputs": [
    {
     "data": {
      "text/plain": [
       "['clock_speed',\n",
       " 'dual_sim',\n",
       " 'four_g',\n",
       " 'm_dep',\n",
       " 'mobile_wt',\n",
       " 'pc',\n",
       " 'sc_h',\n",
       " 'sc_w',\n",
       " 'talk_time',\n",
       " 'three_g']"
      ]
     },
     "execution_count": 26,
     "metadata": {},
     "output_type": "execute_result"
    }
   ],
   "source": [
    "remove"
   ]
  },
  {
   "cell_type": "markdown",
   "metadata": {},
   "source": [
    "\n",
    "NOW REMOVING THE ELEMENTS NON IMPORTANT FROM THE SET"
   ]
  },
  {
   "cell_type": "code",
   "execution_count": 27,
   "metadata": {},
   "outputs": [],
   "source": [
    "x_train = x_train.drop(remove , axis = 1)"
   ]
  },
  {
   "cell_type": "code",
   "execution_count": 28,
   "metadata": {},
   "outputs": [
    {
     "data": {
      "text/html": [
       "<div>\n",
       "<style scoped>\n",
       "    .dataframe tbody tr th:only-of-type {\n",
       "        vertical-align: middle;\n",
       "    }\n",
       "\n",
       "    .dataframe tbody tr th {\n",
       "        vertical-align: top;\n",
       "    }\n",
       "\n",
       "    .dataframe thead th {\n",
       "        text-align: right;\n",
       "    }\n",
       "</style>\n",
       "<table border=\"1\" class=\"dataframe\">\n",
       "  <thead>\n",
       "    <tr style=\"text-align: right;\">\n",
       "      <th></th>\n",
       "      <th>battery_power</th>\n",
       "      <th>blue</th>\n",
       "      <th>fc</th>\n",
       "      <th>int_memory</th>\n",
       "      <th>n_cores</th>\n",
       "      <th>px_height</th>\n",
       "      <th>px_width</th>\n",
       "      <th>ram</th>\n",
       "      <th>touch_screen</th>\n",
       "      <th>wifi</th>\n",
       "    </tr>\n",
       "  </thead>\n",
       "  <tbody>\n",
       "    <tr>\n",
       "      <th>582</th>\n",
       "      <td>0.488310</td>\n",
       "      <td>0.0</td>\n",
       "      <td>0.052632</td>\n",
       "      <td>0.354839</td>\n",
       "      <td>0.571429</td>\n",
       "      <td>0.184184</td>\n",
       "      <td>0.206275</td>\n",
       "      <td>0.267504</td>\n",
       "      <td>0.0</td>\n",
       "      <td>0.0</td>\n",
       "    </tr>\n",
       "    <tr>\n",
       "      <th>159</th>\n",
       "      <td>0.894456</td>\n",
       "      <td>0.0</td>\n",
       "      <td>0.631579</td>\n",
       "      <td>0.516129</td>\n",
       "      <td>0.000000</td>\n",
       "      <td>0.158673</td>\n",
       "      <td>0.697597</td>\n",
       "      <td>0.219669</td>\n",
       "      <td>0.0</td>\n",
       "      <td>0.0</td>\n",
       "    </tr>\n",
       "    <tr>\n",
       "      <th>1827</th>\n",
       "      <td>0.795591</td>\n",
       "      <td>0.0</td>\n",
       "      <td>0.210526</td>\n",
       "      <td>0.000000</td>\n",
       "      <td>0.000000</td>\n",
       "      <td>0.968878</td>\n",
       "      <td>0.937250</td>\n",
       "      <td>0.941475</td>\n",
       "      <td>1.0</td>\n",
       "      <td>1.0</td>\n",
       "    </tr>\n",
       "    <tr>\n",
       "      <th>318</th>\n",
       "      <td>0.004676</td>\n",
       "      <td>0.0</td>\n",
       "      <td>0.368421</td>\n",
       "      <td>0.645161</td>\n",
       "      <td>0.000000</td>\n",
       "      <td>0.019898</td>\n",
       "      <td>0.038051</td>\n",
       "      <td>0.108765</td>\n",
       "      <td>0.0</td>\n",
       "      <td>0.0</td>\n",
       "    </tr>\n",
       "    <tr>\n",
       "      <th>708</th>\n",
       "      <td>0.317969</td>\n",
       "      <td>1.0</td>\n",
       "      <td>0.105263</td>\n",
       "      <td>0.532258</td>\n",
       "      <td>0.142857</td>\n",
       "      <td>0.766327</td>\n",
       "      <td>0.909212</td>\n",
       "      <td>0.924105</td>\n",
       "      <td>1.0</td>\n",
       "      <td>1.0</td>\n",
       "    </tr>\n",
       "  </tbody>\n",
       "</table>\n",
       "</div>"
      ],
      "text/plain": [
       "      battery_power  blue        fc  int_memory   n_cores  px_height  \\\n",
       "582        0.488310   0.0  0.052632    0.354839  0.571429   0.184184   \n",
       "159        0.894456   0.0  0.631579    0.516129  0.000000   0.158673   \n",
       "1827       0.795591   0.0  0.210526    0.000000  0.000000   0.968878   \n",
       "318        0.004676   0.0  0.368421    0.645161  0.000000   0.019898   \n",
       "708        0.317969   1.0  0.105263    0.532258  0.142857   0.766327   \n",
       "\n",
       "      px_width       ram  touch_screen  wifi  \n",
       "582   0.206275  0.267504           0.0   0.0  \n",
       "159   0.697597  0.219669           0.0   0.0  \n",
       "1827  0.937250  0.941475           1.0   1.0  \n",
       "318   0.038051  0.108765           0.0   0.0  \n",
       "708   0.909212  0.924105           1.0   1.0  "
      ]
     },
     "execution_count": 28,
     "metadata": {},
     "output_type": "execute_result"
    }
   ],
   "source": [
    "x_train.head()"
   ]
  },
  {
   "cell_type": "code",
   "execution_count": 29,
   "metadata": {},
   "outputs": [],
   "source": [
    "x_test = x_test.drop(remove , axis =1)"
   ]
  },
  {
   "cell_type": "code",
   "execution_count": 30,
   "metadata": {},
   "outputs": [
    {
     "data": {
      "text/html": [
       "<div>\n",
       "<style scoped>\n",
       "    .dataframe tbody tr th:only-of-type {\n",
       "        vertical-align: middle;\n",
       "    }\n",
       "\n",
       "    .dataframe tbody tr th {\n",
       "        vertical-align: top;\n",
       "    }\n",
       "\n",
       "    .dataframe thead th {\n",
       "        text-align: right;\n",
       "    }\n",
       "</style>\n",
       "<table border=\"1\" class=\"dataframe\">\n",
       "  <thead>\n",
       "    <tr style=\"text-align: right;\">\n",
       "      <th></th>\n",
       "      <th>battery_power</th>\n",
       "      <th>blue</th>\n",
       "      <th>fc</th>\n",
       "      <th>int_memory</th>\n",
       "      <th>n_cores</th>\n",
       "      <th>px_height</th>\n",
       "      <th>px_width</th>\n",
       "      <th>ram</th>\n",
       "      <th>touch_screen</th>\n",
       "      <th>wifi</th>\n",
       "    </tr>\n",
       "  </thead>\n",
       "  <tbody>\n",
       "    <tr>\n",
       "      <th>405</th>\n",
       "      <td>0.636607</td>\n",
       "      <td>1.0</td>\n",
       "      <td>0.052632</td>\n",
       "      <td>0.516129</td>\n",
       "      <td>0.428571</td>\n",
       "      <td>0.127551</td>\n",
       "      <td>0.355808</td>\n",
       "      <td>0.845270</td>\n",
       "      <td>1.0</td>\n",
       "      <td>0.0</td>\n",
       "    </tr>\n",
       "    <tr>\n",
       "      <th>1190</th>\n",
       "      <td>0.394790</td>\n",
       "      <td>1.0</td>\n",
       "      <td>0.526316</td>\n",
       "      <td>0.145161</td>\n",
       "      <td>0.285714</td>\n",
       "      <td>0.238776</td>\n",
       "      <td>0.047397</td>\n",
       "      <td>0.128541</td>\n",
       "      <td>1.0</td>\n",
       "      <td>0.0</td>\n",
       "    </tr>\n",
       "    <tr>\n",
       "      <th>1132</th>\n",
       "      <td>0.683367</td>\n",
       "      <td>1.0</td>\n",
       "      <td>0.000000</td>\n",
       "      <td>0.129032</td>\n",
       "      <td>0.428571</td>\n",
       "      <td>0.078571</td>\n",
       "      <td>0.033378</td>\n",
       "      <td>0.647247</td>\n",
       "      <td>0.0</td>\n",
       "      <td>1.0</td>\n",
       "    </tr>\n",
       "    <tr>\n",
       "      <th>731</th>\n",
       "      <td>0.872411</td>\n",
       "      <td>1.0</td>\n",
       "      <td>0.105263</td>\n",
       "      <td>0.758065</td>\n",
       "      <td>0.000000</td>\n",
       "      <td>0.171939</td>\n",
       "      <td>0.590120</td>\n",
       "      <td>0.440941</td>\n",
       "      <td>1.0</td>\n",
       "      <td>1.0</td>\n",
       "    </tr>\n",
       "    <tr>\n",
       "      <th>1754</th>\n",
       "      <td>0.390782</td>\n",
       "      <td>1.0</td>\n",
       "      <td>0.000000</td>\n",
       "      <td>0.661290</td>\n",
       "      <td>0.714286</td>\n",
       "      <td>0.028571</td>\n",
       "      <td>0.433912</td>\n",
       "      <td>0.809460</td>\n",
       "      <td>1.0</td>\n",
       "      <td>0.0</td>\n",
       "    </tr>\n",
       "  </tbody>\n",
       "</table>\n",
       "</div>"
      ],
      "text/plain": [
       "      battery_power  blue        fc  int_memory   n_cores  px_height  \\\n",
       "405        0.636607   1.0  0.052632    0.516129  0.428571   0.127551   \n",
       "1190       0.394790   1.0  0.526316    0.145161  0.285714   0.238776   \n",
       "1132       0.683367   1.0  0.000000    0.129032  0.428571   0.078571   \n",
       "731        0.872411   1.0  0.105263    0.758065  0.000000   0.171939   \n",
       "1754       0.390782   1.0  0.000000    0.661290  0.714286   0.028571   \n",
       "\n",
       "      px_width       ram  touch_screen  wifi  \n",
       "405   0.355808  0.845270           1.0   0.0  \n",
       "1190  0.047397  0.128541           1.0   0.0  \n",
       "1132  0.033378  0.647247           0.0   1.0  \n",
       "731   0.590120  0.440941           1.0   1.0  \n",
       "1754  0.433912  0.809460           1.0   0.0  "
      ]
     },
     "execution_count": 30,
     "metadata": {},
     "output_type": "execute_result"
    }
   ],
   "source": [
    "x_test.head()"
   ]
  },
  {
   "cell_type": "markdown",
   "metadata": {},
   "source": [
    "NOW WE HAVE IDENTIFIED THE FEATURES WHICH ARE IMPORTANT AND REMOVED IT TOO"
   ]
  },
  {
   "cell_type": "markdown",
   "metadata": {},
   "source": [
    "NOW WE NEED TO BUILD MODELS-MODEL BUILDING"
   ]
  },
  {
   "cell_type": "markdown",
   "metadata": {},
   "source": [
    "#### WAY - 4 OF FEATURE SELECTION IE; MUTUAL_INFO IS FOR REGRESSION TYPE O/P- NO NEED TO APPLY HERE "
   ]
  },
  {
   "cell_type": "markdown",
   "metadata": {},
   "source": [
    "#### WAY - 5 OF FEATURE SELECTION FIESHER TEST. LET'S DO IT NOW"
   ]
  },
  {
   "cell_type": "code",
   "execution_count": 31,
   "metadata": {},
   "outputs": [],
   "source": [
    "x_train,x_test,y_train,y_test = train_test_split(scaled_norm.drop('price_range',axis=1),scaled_norm['price_range'],test_size = 0.2,random_state =0)"
   ]
  },
  {
   "cell_type": "code",
   "execution_count": 32,
   "metadata": {},
   "outputs": [],
   "source": [
    "from sklearn.feature_selection import chi2\n",
    "\n",
    "f_p_val = chi2(x_train,y_train)"
   ]
  },
  {
   "cell_type": "code",
   "execution_count": 33,
   "metadata": {},
   "outputs": [
    {
     "data": {
      "text/plain": [
       "(array([1.28216560e+01, 1.40127358e+00, 2.02153844e-01, 6.24301869e-01,\n",
       "        4.65038748e-01, 1.24890071e+00, 1.28452957e+00, 4.31708942e-01,\n",
       "        1.80101591e+00, 2.69945111e+00, 2.79315718e-01, 6.66283473e+00,\n",
       "        7.92207674e+00, 2.24552217e+02, 7.01452074e-01, 8.27028597e-01,\n",
       "        5.22862902e-01, 2.31936485e-02, 3.33175408e+00, 9.94585406e-02]),\n",
       " array([5.03859579e-03, 7.05236224e-01, 9.77240847e-01, 8.90847171e-01,\n",
       "        9.26502303e-01, 7.41301351e-01, 7.32809921e-01, 9.33617017e-01,\n",
       "        6.14713886e-01, 4.40320581e-01, 9.63870506e-01, 8.34572305e-02,\n",
       "        4.76498970e-02, 2.08269442e-48, 8.72862353e-01, 8.42991822e-01,\n",
       "        9.13840575e-01, 9.99067062e-01, 3.43247465e-01, 9.91902322e-01]))"
      ]
     },
     "execution_count": 33,
     "metadata": {},
     "output_type": "execute_result"
    }
   ],
   "source": [
    "f_p_val"
   ]
  },
  {
   "cell_type": "markdown",
   "metadata": {},
   "source": [
    "HERE , f_p_val[0] IS GIVING F - SCORE\n",
    "HERE ,f_p_val[1] IS GIVING P - VALUE"
   ]
  },
  {
   "cell_type": "markdown",
   "metadata": {},
   "source": [
    "#### 1 THE MORE VALUE OF THE F-SCORE THE MORE IMPORTANT IS THE FEATURE \n",
    "#### 2 THE LESSER THE VALUE OF P THE MORE IMPORTANT IS THE FEATURE "
   ]
  },
  {
   "cell_type": "markdown",
   "metadata": {},
   "source": [
    "WE CAN GO WITH THE EITHER ONE "
   ]
  },
  {
   "cell_type": "code",
   "execution_count": 34,
   "metadata": {},
   "outputs": [
    {
     "name": "stdout",
     "output_type": "stream",
     "text": [
      "ram              224.552217\n",
      "battery_power     12.821656\n",
      "px_width           7.922077\n",
      "px_height          6.662835\n",
      "touch_screen       3.331754\n",
      "n_cores            2.699451\n",
      "mobile_wt          1.801016\n",
      "blue               1.401274\n",
      "int_memory         1.284530\n",
      "four_g             1.248901\n",
      "sc_w               0.827029\n",
      "sc_h               0.701452\n",
      "dual_sim           0.624302\n",
      "talk_time          0.522863\n",
      "fc                 0.465039\n",
      "m_dep              0.431709\n",
      "pc                 0.279316\n",
      "clock_speed        0.202154\n",
      "wifi               0.099459\n",
      "three_g            0.023194\n",
      "dtype: float64\n"
     ]
    }
   ],
   "source": [
    "f_score = pd.Series(f_p_val[0],index = x_train.columns)\n",
    "print(f_score.sort_values(ascending =False))"
   ]
  },
  {
   "cell_type": "markdown",
   "metadata": {},
   "source": [
    "SO HERE ram IS THE MOST IMPORTANT FEATURE CONTRIBUTIN TO THE O/P AND three_g IS THE LEAST IMPORTANT FEATURE "
   ]
  },
  {
   "cell_type": "code",
   "execution_count": 35,
   "metadata": {},
   "outputs": [
    {
     "data": {
      "text/plain": [
       "<AxesSubplot:>"
      ]
     },
     "execution_count": 35,
     "metadata": {},
     "output_type": "execute_result"
    },
    {
     "data": {
      "image/png": "[encoded data removed]",
      "text/plain": [
       "<Figure size 432x288 with 1 Axes>"
      ]
     },
     "metadata": {
      "needs_background": "light"
     },
     "output_type": "display_data"
    }
   ],
   "source": [
    "f_score.sort_values(ascending =False).plot.bar()"
   ]
  },
  {
   "cell_type": "markdown",
   "metadata": {},
   "source": [
    "BY THIS WAY WE WILL ANOTHER TYPE OF LIST OF FEATURES TO BE REOMVED"
   ]
  },
  {
   "cell_type": "code",
   "execution_count": 36,
   "metadata": {},
   "outputs": [],
   "source": [
    "select = {column : round(f_score[column],5) for column in f_score.keys() if f_score[column]>1}"
   ]
  },
  {
   "cell_type": "code",
   "execution_count": 37,
   "metadata": {},
   "outputs": [
    {
     "data": {
      "text/plain": [
       "{'battery_power': 12.82166,\n",
       " 'blue': 1.40127,\n",
       " 'four_g': 1.2489,\n",
       " 'int_memory': 1.28453,\n",
       " 'mobile_wt': 1.80102,\n",
       " 'n_cores': 2.69945,\n",
       " 'px_height': 6.66283,\n",
       " 'px_width': 7.92208,\n",
       " 'ram': 224.55222,\n",
       " 'touch_screen': 3.33175}"
      ]
     },
     "execution_count": 37,
     "metadata": {},
     "output_type": "execute_result"
    }
   ],
   "source": [
    "select"
   ]
  },
  {
   "cell_type": "code",
   "execution_count": 38,
   "metadata": {},
   "outputs": [],
   "source": [
    "remove = [column for column in f_score.keys() if column not in select]"
   ]
  },
  {
   "cell_type": "code",
   "execution_count": 39,
   "metadata": {},
   "outputs": [
    {
     "data": {
      "text/plain": [
       "['clock_speed',\n",
       " 'dual_sim',\n",
       " 'fc',\n",
       " 'm_dep',\n",
       " 'pc',\n",
       " 'sc_h',\n",
       " 'sc_w',\n",
       " 'talk_time',\n",
       " 'three_g',\n",
       " 'wifi']"
      ]
     },
     "execution_count": 39,
     "metadata": {},
     "output_type": "execute_result"
    }
   ],
   "source": [
    "remove"
   ]
  },
  {
   "cell_type": "markdown",
   "metadata": {},
   "source": [
    "DROPPING FEATURES WHICH ARE NOT IMPORTANT "
   ]
  },
  {
   "cell_type": "code",
   "execution_count": 40,
   "metadata": {},
   "outputs": [],
   "source": [
    "x_train = x_train.drop(remove,axis=1)\n",
    "x_test = x_test.drop(remove , axis =1)"
   ]
  },
  {
   "cell_type": "code",
   "execution_count": 41,
   "metadata": {},
   "outputs": [
    {
     "data": {
      "text/html": [
       "<div>\n",
       "<style scoped>\n",
       "    .dataframe tbody tr th:only-of-type {\n",
       "        vertical-align: middle;\n",
       "    }\n",
       "\n",
       "    .dataframe tbody tr th {\n",
       "        vertical-align: top;\n",
       "    }\n",
       "\n",
       "    .dataframe thead th {\n",
       "        text-align: right;\n",
       "    }\n",
       "</style>\n",
       "<table border=\"1\" class=\"dataframe\">\n",
       "  <thead>\n",
       "    <tr style=\"text-align: right;\">\n",
       "      <th></th>\n",
       "      <th>battery_power</th>\n",
       "      <th>blue</th>\n",
       "      <th>four_g</th>\n",
       "      <th>int_memory</th>\n",
       "      <th>mobile_wt</th>\n",
       "      <th>n_cores</th>\n",
       "      <th>px_height</th>\n",
       "      <th>px_width</th>\n",
       "      <th>ram</th>\n",
       "      <th>touch_screen</th>\n",
       "    </tr>\n",
       "  </thead>\n",
       "  <tbody>\n",
       "    <tr>\n",
       "      <th>582</th>\n",
       "      <td>0.488310</td>\n",
       "      <td>0.0</td>\n",
       "      <td>1.0</td>\n",
       "      <td>0.354839</td>\n",
       "      <td>0.741667</td>\n",
       "      <td>0.571429</td>\n",
       "      <td>0.184184</td>\n",
       "      <td>0.206275</td>\n",
       "      <td>0.267504</td>\n",
       "      <td>0.0</td>\n",
       "    </tr>\n",
       "    <tr>\n",
       "      <th>159</th>\n",
       "      <td>0.894456</td>\n",
       "      <td>0.0</td>\n",
       "      <td>0.0</td>\n",
       "      <td>0.516129</td>\n",
       "      <td>0.516667</td>\n",
       "      <td>0.000000</td>\n",
       "      <td>0.158673</td>\n",
       "      <td>0.697597</td>\n",
       "      <td>0.219669</td>\n",
       "      <td>0.0</td>\n",
       "    </tr>\n",
       "    <tr>\n",
       "      <th>1827</th>\n",
       "      <td>0.795591</td>\n",
       "      <td>0.0</td>\n",
       "      <td>1.0</td>\n",
       "      <td>0.000000</td>\n",
       "      <td>0.216667</td>\n",
       "      <td>0.000000</td>\n",
       "      <td>0.968878</td>\n",
       "      <td>0.937250</td>\n",
       "      <td>0.941475</td>\n",
       "      <td>1.0</td>\n",
       "    </tr>\n",
       "    <tr>\n",
       "      <th>318</th>\n",
       "      <td>0.004676</td>\n",
       "      <td>0.0</td>\n",
       "      <td>1.0</td>\n",
       "      <td>0.645161</td>\n",
       "      <td>0.116667</td>\n",
       "      <td>0.000000</td>\n",
       "      <td>0.019898</td>\n",
       "      <td>0.038051</td>\n",
       "      <td>0.108765</td>\n",
       "      <td>0.0</td>\n",
       "    </tr>\n",
       "    <tr>\n",
       "      <th>708</th>\n",
       "      <td>0.317969</td>\n",
       "      <td>1.0</td>\n",
       "      <td>0.0</td>\n",
       "      <td>0.532258</td>\n",
       "      <td>0.708333</td>\n",
       "      <td>0.142857</td>\n",
       "      <td>0.766327</td>\n",
       "      <td>0.909212</td>\n",
       "      <td>0.924105</td>\n",
       "      <td>1.0</td>\n",
       "    </tr>\n",
       "  </tbody>\n",
       "</table>\n",
       "</div>"
      ],
      "text/plain": [
       "      battery_power  blue  four_g  int_memory  mobile_wt   n_cores  px_height  \\\n",
       "582        0.488310   0.0     1.0    0.354839   0.741667  0.571429   0.184184   \n",
       "159        0.894456   0.0     0.0    0.516129   0.516667  0.000000   0.158673   \n",
       "1827       0.795591   0.0     1.0    0.000000   0.216667  0.000000   0.968878   \n",
       "318        0.004676   0.0     1.0    0.645161   0.116667  0.000000   0.019898   \n",
       "708        0.317969   1.0     0.0    0.532258   0.708333  0.142857   0.766327   \n",
       "\n",
       "      px_width       ram  touch_screen  \n",
       "582   0.206275  0.267504           0.0  \n",
       "159   0.697597  0.219669           0.0  \n",
       "1827  0.937250  0.941475           1.0  \n",
       "318   0.038051  0.108765           0.0  \n",
       "708   0.909212  0.924105           1.0  "
      ]
     },
     "execution_count": 41,
     "metadata": {},
     "output_type": "execute_result"
    }
   ],
   "source": [
    "x_train.head()"
   ]
  },
  {
   "cell_type": "code",
   "execution_count": 42,
   "metadata": {},
   "outputs": [
    {
     "data": {
      "text/html": [
       "<div>\n",
       "<style scoped>\n",
       "    .dataframe tbody tr th:only-of-type {\n",
       "        vertical-align: middle;\n",
       "    }\n",
       "\n",
       "    .dataframe tbody tr th {\n",
       "        vertical-align: top;\n",
       "    }\n",
       "\n",
       "    .dataframe thead th {\n",
       "        text-align: right;\n",
       "    }\n",
       "</style>\n",
       "<table border=\"1\" class=\"dataframe\">\n",
       "  <thead>\n",
       "    <tr style=\"text-align: right;\">\n",
       "      <th></th>\n",
       "      <th>battery_power</th>\n",
       "      <th>blue</th>\n",
       "      <th>four_g</th>\n",
       "      <th>int_memory</th>\n",
       "      <th>mobile_wt</th>\n",
       "      <th>n_cores</th>\n",
       "      <th>px_height</th>\n",
       "      <th>px_width</th>\n",
       "      <th>ram</th>\n",
       "      <th>touch_screen</th>\n",
       "    </tr>\n",
       "  </thead>\n",
       "  <tbody>\n",
       "    <tr>\n",
       "      <th>405</th>\n",
       "      <td>0.636607</td>\n",
       "      <td>1.0</td>\n",
       "      <td>0.0</td>\n",
       "      <td>0.516129</td>\n",
       "      <td>0.025000</td>\n",
       "      <td>0.428571</td>\n",
       "      <td>0.127551</td>\n",
       "      <td>0.355808</td>\n",
       "      <td>0.845270</td>\n",
       "      <td>1.0</td>\n",
       "    </tr>\n",
       "    <tr>\n",
       "      <th>1190</th>\n",
       "      <td>0.394790</td>\n",
       "      <td>1.0</td>\n",
       "      <td>0.0</td>\n",
       "      <td>0.145161</td>\n",
       "      <td>0.725000</td>\n",
       "      <td>0.285714</td>\n",
       "      <td>0.238776</td>\n",
       "      <td>0.047397</td>\n",
       "      <td>0.128541</td>\n",
       "      <td>1.0</td>\n",
       "    </tr>\n",
       "    <tr>\n",
       "      <th>1132</th>\n",
       "      <td>0.683367</td>\n",
       "      <td>1.0</td>\n",
       "      <td>0.0</td>\n",
       "      <td>0.129032</td>\n",
       "      <td>0.783333</td>\n",
       "      <td>0.428571</td>\n",
       "      <td>0.078571</td>\n",
       "      <td>0.033378</td>\n",
       "      <td>0.647247</td>\n",
       "      <td>0.0</td>\n",
       "    </tr>\n",
       "    <tr>\n",
       "      <th>731</th>\n",
       "      <td>0.872411</td>\n",
       "      <td>1.0</td>\n",
       "      <td>0.0</td>\n",
       "      <td>0.758065</td>\n",
       "      <td>0.375000</td>\n",
       "      <td>0.000000</td>\n",
       "      <td>0.171939</td>\n",
       "      <td>0.590120</td>\n",
       "      <td>0.440941</td>\n",
       "      <td>1.0</td>\n",
       "    </tr>\n",
       "    <tr>\n",
       "      <th>1754</th>\n",
       "      <td>0.390782</td>\n",
       "      <td>1.0</td>\n",
       "      <td>1.0</td>\n",
       "      <td>0.661290</td>\n",
       "      <td>0.258333</td>\n",
       "      <td>0.714286</td>\n",
       "      <td>0.028571</td>\n",
       "      <td>0.433912</td>\n",
       "      <td>0.809460</td>\n",
       "      <td>1.0</td>\n",
       "    </tr>\n",
       "  </tbody>\n",
       "</table>\n",
       "</div>"
      ],
      "text/plain": [
       "      battery_power  blue  four_g  int_memory  mobile_wt   n_cores  px_height  \\\n",
       "405        0.636607   1.0     0.0    0.516129   0.025000  0.428571   0.127551   \n",
       "1190       0.394790   1.0     0.0    0.145161   0.725000  0.285714   0.238776   \n",
       "1132       0.683367   1.0     0.0    0.129032   0.783333  0.428571   0.078571   \n",
       "731        0.872411   1.0     0.0    0.758065   0.375000  0.000000   0.171939   \n",
       "1754       0.390782   1.0     1.0    0.661290   0.258333  0.714286   0.028571   \n",
       "\n",
       "      px_width       ram  touch_screen  \n",
       "405   0.355808  0.845270           1.0  \n",
       "1190  0.047397  0.128541           1.0  \n",
       "1132  0.033378  0.647247           0.0  \n",
       "731   0.590120  0.440941           1.0  \n",
       "1754  0.433912  0.809460           1.0  "
      ]
     },
     "execution_count": 42,
     "metadata": {},
     "output_type": "execute_result"
    }
   ],
   "source": [
    "x_test.head()"
   ]
  },
  {
   "cell_type": "markdown",
   "metadata": {},
   "source": [
    "NOW WE JUST NEED TO BUILD THE MODELS ON THIS BASIS "
   ]
  },
  {
   "cell_type": "markdown",
   "metadata": {},
   "source": [
    "#### WAY - 6 FEATURE IMPORTANCE "
   ]
  },
  {
   "cell_type": "code",
   "execution_count": 43,
   "metadata": {},
   "outputs": [],
   "source": [
    "from sklearn.ensemble import ExtraTreesClassifier"
   ]
  },
  {
   "cell_type": "code",
   "execution_count": 44,
   "metadata": {},
   "outputs": [
    {
     "data": {
      "text/html": [
       "<div>\n",
       "<style scoped>\n",
       "    .dataframe tbody tr th:only-of-type {\n",
       "        vertical-align: middle;\n",
       "    }\n",
       "\n",
       "    .dataframe tbody tr th {\n",
       "        vertical-align: top;\n",
       "    }\n",
       "\n",
       "    .dataframe thead th {\n",
       "        text-align: right;\n",
       "    }\n",
       "</style>\n",
       "<table border=\"1\" class=\"dataframe\">\n",
       "  <thead>\n",
       "    <tr style=\"text-align: right;\">\n",
       "      <th></th>\n",
       "      <th>battery_power</th>\n",
       "      <th>blue</th>\n",
       "      <th>clock_speed</th>\n",
       "      <th>dual_sim</th>\n",
       "      <th>fc</th>\n",
       "      <th>four_g</th>\n",
       "      <th>int_memory</th>\n",
       "      <th>m_dep</th>\n",
       "      <th>mobile_wt</th>\n",
       "      <th>n_cores</th>\n",
       "      <th>pc</th>\n",
       "      <th>px_height</th>\n",
       "      <th>px_width</th>\n",
       "      <th>ram</th>\n",
       "      <th>sc_h</th>\n",
       "      <th>sc_w</th>\n",
       "      <th>talk_time</th>\n",
       "      <th>three_g</th>\n",
       "      <th>touch_screen</th>\n",
       "      <th>wifi</th>\n",
       "    </tr>\n",
       "  </thead>\n",
       "  <tbody>\n",
       "    <tr>\n",
       "      <th>0</th>\n",
       "      <td>842</td>\n",
       "      <td>0</td>\n",
       "      <td>2.2</td>\n",
       "      <td>0</td>\n",
       "      <td>1</td>\n",
       "      <td>0</td>\n",
       "      <td>7</td>\n",
       "      <td>0.6</td>\n",
       "      <td>188</td>\n",
       "      <td>2</td>\n",
       "      <td>2</td>\n",
       "      <td>20</td>\n",
       "      <td>756</td>\n",
       "      <td>2549</td>\n",
       "      <td>9</td>\n",
       "      <td>7</td>\n",
       "      <td>19</td>\n",
       "      <td>0</td>\n",
       "      <td>0</td>\n",
       "      <td>1</td>\n",
       "    </tr>\n",
       "    <tr>\n",
       "      <th>1</th>\n",
       "      <td>1021</td>\n",
       "      <td>1</td>\n",
       "      <td>0.5</td>\n",
       "      <td>1</td>\n",
       "      <td>0</td>\n",
       "      <td>1</td>\n",
       "      <td>53</td>\n",
       "      <td>0.7</td>\n",
       "      <td>136</td>\n",
       "      <td>3</td>\n",
       "      <td>6</td>\n",
       "      <td>905</td>\n",
       "      <td>1988</td>\n",
       "      <td>2631</td>\n",
       "      <td>17</td>\n",
       "      <td>3</td>\n",
       "      <td>7</td>\n",
       "      <td>1</td>\n",
       "      <td>1</td>\n",
       "      <td>0</td>\n",
       "    </tr>\n",
       "    <tr>\n",
       "      <th>2</th>\n",
       "      <td>563</td>\n",
       "      <td>1</td>\n",
       "      <td>0.5</td>\n",
       "      <td>1</td>\n",
       "      <td>2</td>\n",
       "      <td>1</td>\n",
       "      <td>41</td>\n",
       "      <td>0.9</td>\n",
       "      <td>145</td>\n",
       "      <td>5</td>\n",
       "      <td>6</td>\n",
       "      <td>1263</td>\n",
       "      <td>1716</td>\n",
       "      <td>2603</td>\n",
       "      <td>11</td>\n",
       "      <td>2</td>\n",
       "      <td>9</td>\n",
       "      <td>1</td>\n",
       "      <td>1</td>\n",
       "      <td>0</td>\n",
       "    </tr>\n",
       "    <tr>\n",
       "      <th>3</th>\n",
       "      <td>615</td>\n",
       "      <td>1</td>\n",
       "      <td>2.5</td>\n",
       "      <td>0</td>\n",
       "      <td>0</td>\n",
       "      <td>0</td>\n",
       "      <td>10</td>\n",
       "      <td>0.8</td>\n",
       "      <td>131</td>\n",
       "      <td>6</td>\n",
       "      <td>9</td>\n",
       "      <td>1216</td>\n",
       "      <td>1786</td>\n",
       "      <td>2769</td>\n",
       "      <td>16</td>\n",
       "      <td>8</td>\n",
       "      <td>11</td>\n",
       "      <td>1</td>\n",
       "      <td>0</td>\n",
       "      <td>0</td>\n",
       "    </tr>\n",
       "    <tr>\n",
       "      <th>4</th>\n",
       "      <td>1821</td>\n",
       "      <td>1</td>\n",
       "      <td>1.2</td>\n",
       "      <td>0</td>\n",
       "      <td>13</td>\n",
       "      <td>1</td>\n",
       "      <td>44</td>\n",
       "      <td>0.6</td>\n",
       "      <td>141</td>\n",
       "      <td>2</td>\n",
       "      <td>14</td>\n",
       "      <td>1208</td>\n",
       "      <td>1212</td>\n",
       "      <td>1411</td>\n",
       "      <td>8</td>\n",
       "      <td>2</td>\n",
       "      <td>15</td>\n",
       "      <td>1</td>\n",
       "      <td>1</td>\n",
       "      <td>0</td>\n",
       "    </tr>\n",
       "  </tbody>\n",
       "</table>\n",
       "</div>"
      ],
      "text/plain": [
       "   battery_power  blue  clock_speed  dual_sim  fc  four_g  int_memory  m_dep  \\\n",
       "0            842     0          2.2         0   1       0           7    0.6   \n",
       "1           1021     1          0.5         1   0       1          53    0.7   \n",
       "2            563     1          0.5         1   2       1          41    0.9   \n",
       "3            615     1          2.5         0   0       0          10    0.8   \n",
       "4           1821     1          1.2         0  13       1          44    0.6   \n",
       "\n",
       "   mobile_wt  n_cores  pc  px_height  px_width   ram  sc_h  sc_w  talk_time  \\\n",
       "0        188        2   2         20       756  2549     9     7         19   \n",
       "1        136        3   6        905      1988  2631    17     3          7   \n",
       "2        145        5   6       1263      1716  2603    11     2          9   \n",
       "3        131        6   9       1216      1786  2769    16     8         11   \n",
       "4        141        2  14       1208      1212  1411     8     2         15   \n",
       "\n",
       "   three_g  touch_screen  wifi  \n",
       "0        0             0     1  \n",
       "1        1             1     0  \n",
       "2        1             1     0  \n",
       "3        1             0     0  \n",
       "4        1             1     0  "
      ]
     },
     "execution_count": 44,
     "metadata": {},
     "output_type": "execute_result"
    }
   ],
   "source": [
    "x.head()"
   ]
  },
  {
   "cell_type": "code",
   "execution_count": 45,
   "metadata": {},
   "outputs": [
    {
     "data": {
      "text/plain": [
       "0    1\n",
       "1    2\n",
       "2    2\n",
       "3    2\n",
       "4    1\n",
       "Name: price_range, dtype: int64"
      ]
     },
     "execution_count": 45,
     "metadata": {},
     "output_type": "execute_result"
    }
   ],
   "source": [
    "y.head()"
   ]
  },
  {
   "cell_type": "code",
   "execution_count": 46,
   "metadata": {
    "scrolled": true
   },
   "outputs": [
    {
     "data": {
      "text/plain": [
       "ExtraTreesClassifier()"
      ]
     },
     "execution_count": 46,
     "metadata": {},
     "output_type": "execute_result"
    }
   ],
   "source": [
    "extratc=ExtraTreesClassifier()\n",
    "extratc.fit(x,y)"
   ]
  },
  {
   "cell_type": "code",
   "execution_count": 47,
   "metadata": {},
   "outputs": [
    {
     "data": {
      "text/plain": [
       "array([0.06071522, 0.01957195, 0.03257787, 0.02042774, 0.03254662,\n",
       "       0.01676288, 0.0341203 , 0.03405401, 0.0358907 , 0.03264112,\n",
       "       0.03313124, 0.04739315, 0.04852741, 0.39562478, 0.03375832,\n",
       "       0.03440139, 0.03388514, 0.014899  , 0.01843156, 0.02063959])"
      ]
     },
     "execution_count": 47,
     "metadata": {},
     "output_type": "execute_result"
    }
   ],
   "source": [
    "extratc.feature_importances_"
   ]
  },
  {
   "cell_type": "code",
   "execution_count": 48,
   "metadata": {},
   "outputs": [],
   "source": [
    "extra_f=pd.Series(extratc.feature_importances_,index=x.columns)"
   ]
  },
  {
   "cell_type": "code",
   "execution_count": 49,
   "metadata": {
    "scrolled": true
   },
   "outputs": [
    {
     "data": {
      "text/plain": [
       "<AxesSubplot:>"
      ]
     },
     "execution_count": 49,
     "metadata": {},
     "output_type": "execute_result"
    },
    {
     "data": {
      "image/png": "[encoded data removed]",
      "text/plain": [
       "<Figure size 576x288 with 1 Axes>"
      ]
     },
     "metadata": {
      "needs_background": "light"
     },
     "output_type": "display_data"
    }
   ],
   "source": [
    "plt.figure(figsize=(8,4))\n",
    "extra_f.sort_values(ascending=False).plot.bar()"
   ]
  },
  {
   "cell_type": "markdown",
   "metadata": {},
   "source": [
    "LIST OF FEATURES TO BE REMOVED FROM THE DATA SET"
   ]
  },
  {
   "cell_type": "code",
   "execution_count": 50,
   "metadata": {
    "scrolled": true
   },
   "outputs": [
    {
     "data": {
      "text/plain": [
       "['wifi', 'dual_sim', 'blue', 'touch_screen', 'four_g', 'three_g']"
      ]
     },
     "execution_count": 50,
     "metadata": {},
     "output_type": "execute_result"
    }
   ],
   "source": [
    "remove=list(extra_f.sort_values(ascending=False).index[14:])\n",
    "remove"
   ]
  },
  {
   "cell_type": "code",
   "execution_count": 51,
   "metadata": {},
   "outputs": [],
   "source": [
    "x_train,x_test,y_train,y_test = train_test_split(x,y,test_size = 0.2,random_state =0)"
   ]
  },
  {
   "cell_type": "markdown",
   "metadata": {},
   "source": [
    "REMOVING FROM THE TRAIN AND TEST SET"
   ]
  },
  {
   "cell_type": "code",
   "execution_count": 52,
   "metadata": {},
   "outputs": [],
   "source": [
    "x_train = x_train.drop(remove,axis=1)\n",
    "x_test = x_test.drop(remove , axis =1)"
   ]
  },
  {
   "cell_type": "markdown",
   "metadata": {},
   "source": [
    "#### SO BASICALLY WHAT I HAVE DONE HERE I NORMALIZED MY DATA SET (FEATURE SCALING) AND THEN APPLIED THE FEATURE SELECTION WAYS "
   ]
  },
  {
   "cell_type": "markdown",
   "metadata": {},
   "source": [
    "#### I WILL TRY TO TRANSFORM MY CONTINUOUS AND CATEGORICAL NUMERICAL FEATURE TO GIVE A NORMAL DISTRIBUTION AND THEN , I WILL PERFORM STANDARDIZATION or NORMALIZATION AND THEN FEATURE SELECTION  "
   ]
  },
  {
   "cell_type": "markdown",
   "metadata": {},
   "source": [
    "#### HERE I WILL IMPUTE THE CONTINUOUS VARIABLES EXPONENTIALLY AND TRANFORMING THE CATEGORICAL VAIORABLES BY COUNT/ FREQUENCY COUNT "
   ]
  },
  {
   "cell_type": "code",
   "execution_count": 53,
   "metadata": {},
   "outputs": [],
   "source": [
    "data2 =df.copy()"
   ]
  },
  {
   "cell_type": "code",
   "execution_count": 54,
   "metadata": {},
   "outputs": [],
   "source": [
    "## FUNCTION TO PLOT\n",
    "\n",
    "import pylab\n",
    "import scipy.stats as stat\n",
    "\n",
    "def plot_QQ(dataset,feature):\n",
    "    plt.subplot(1,2,1)\n",
    "    dataset[feature].hist(bins =20)\n",
    "    plt.subplot(1,2,2)\n",
    "    stat.probplot(dataset[feature],plot = pylab)\n",
    "    plt.show()"
   ]
  },
  {
   "cell_type": "code",
   "execution_count": 55,
   "metadata": {},
   "outputs": [
    {
     "data": {
      "image/png": "[encoded data removed]",
      "text/plain": [
       "<Figure size 432x288 with 2 Axes>"
      ]
     },
     "metadata": {
      "needs_background": "light"
     },
     "output_type": "display_data"
    },
    {
     "data": {
      "image/png": "[encoded data removed]",
      "text/plain": [
       "<Figure size 432x288 with 2 Axes>"
      ]
     },
     "metadata": {
      "needs_background": "light"
     },
     "output_type": "display_data"
    },
    {
     "data": {
      "image/png": "[encoded data removed]",
      "text/plain": [
       "<Figure size 432x288 with 2 Axes>"
      ]
     },
     "metadata": {
      "needs_background": "light"
     },
     "output_type": "display_data"
    },
    {
     "data": {
      "image/png": "[encoded data removed]",
      "text/plain": [
       "<Figure size 432x288 with 2 Axes>"
      ]
     },
     "metadata": {
      "needs_background": "light"
     },
     "output_type": "display_data"
    },
    {
     "data": {
      "image/png": "[encoded data removed]",
      "text/plain": [
       "<Figure size 432x288 with 2 Axes>"
      ]
     },
     "metadata": {
      "needs_background": "light"
     },
     "output_type": "display_data"
    },
    {
     "data": {
      "image/png": "[encoded data removed]",
      "text/plain": [
       "<Figure size 432x288 with 2 Axes>"
      ]
     },
     "metadata": {
      "needs_background": "light"
     },
     "output_type": "display_data"
    },
    {
     "data": {
      "image/png": "[encoded data removed]",
      "text/plain": [
       "<Figure size 432x288 with 2 Axes>"
      ]
     },
     "metadata": {
      "needs_background": "light"
     },
     "output_type": "display_data"
    },
    {
     "data": {
      "image/png": "[encoded data removed]",
      "text/plain": [
       "<Figure size 432x288 with 2 Axes>"
      ]
     },
     "metadata": {
      "needs_background": "light"
     },
     "output_type": "display_data"
    },
    {
     "data": {
      "image/png": "[encoded data removed]",
      "text/plain": [
       "<Figure size 432x288 with 2 Axes>"
      ]
     },
     "metadata": {
      "needs_background": "light"
     },
     "output_type": "display_data"
    },
    {
     "data": {
      "image/png": "[encoded data removed]",
      "text/plain": [
       "<Figure size 432x288 with 2 Axes>"
      ]
     },
     "metadata": {
      "needs_background": "light"
     },
     "output_type": "display_data"
    },
    {
     "data": {
      "image/png": "[encoded data removed]",
      "text/plain": [
       "<Figure size 432x288 with 2 Axes>"
      ]
     },
     "metadata": {
      "needs_background": "light"
     },
     "output_type": "display_data"
    },
    {
     "data": {
      "image/png": "[encoded data removed]",
      "text/plain": [
       "<Figure size 432x288 with 2 Axes>"
      ]
     },
     "metadata": {
      "needs_background": "light"
     },
     "output_type": "display_data"
    }
   ],
   "source": [
    "### applying the exponential transformation on continuous variables\n",
    "\n",
    "for feature in continuous_num_features:\n",
    "    data2[feature] = df[feature]**(1/1.2)\n",
    "    plot_QQ(data2,feature)"
   ]
  },
  {
   "cell_type": "markdown",
   "metadata": {},
   "source": [
    "I CAN SEE THAT MODET OF THE POINTS ARE FALLING ON THE LINE WHICH IMPLIES IT A MORE LIKELY A NORMAL DISTRIBUTED "
   ]
  },
  {
   "cell_type": "code",
   "execution_count": 56,
   "metadata": {},
   "outputs": [],
   "source": [
    "## CATEGORICAL FEATURES\n",
    "\n",
    "def freq_count(dataset,feature):\n",
    "    if feature == 'price_range':\n",
    "        pass\n",
    "    else:\n",
    "        count = dataset[feature].value_counts().to_dict()\n",
    "        \n",
    "        dataset[feature] = dataset[feature].map(count)"
   ]
  },
  {
   "cell_type": "code",
   "execution_count": 57,
   "metadata": {},
   "outputs": [],
   "source": [
    "for feature in categorical_num_features:\n",
    "    freq_count(data2,feature)"
   ]
  },
  {
   "cell_type": "code",
   "execution_count": 58,
   "metadata": {},
   "outputs": [
    {
     "data": {
      "text/html": [
       "<div>\n",
       "<style scoped>\n",
       "    .dataframe tbody tr th:only-of-type {\n",
       "        vertical-align: middle;\n",
       "    }\n",
       "\n",
       "    .dataframe tbody tr th {\n",
       "        vertical-align: top;\n",
       "    }\n",
       "\n",
       "    .dataframe thead th {\n",
       "        text-align: right;\n",
       "    }\n",
       "</style>\n",
       "<table border=\"1\" class=\"dataframe\">\n",
       "  <thead>\n",
       "    <tr style=\"text-align: right;\">\n",
       "      <th></th>\n",
       "      <th>battery_power</th>\n",
       "      <th>blue</th>\n",
       "      <th>clock_speed</th>\n",
       "      <th>dual_sim</th>\n",
       "      <th>fc</th>\n",
       "      <th>four_g</th>\n",
       "      <th>int_memory</th>\n",
       "      <th>m_dep</th>\n",
       "      <th>mobile_wt</th>\n",
       "      <th>n_cores</th>\n",
       "      <th>...</th>\n",
       "      <th>px_height</th>\n",
       "      <th>px_width</th>\n",
       "      <th>ram</th>\n",
       "      <th>sc_h</th>\n",
       "      <th>sc_w</th>\n",
       "      <th>talk_time</th>\n",
       "      <th>three_g</th>\n",
       "      <th>touch_screen</th>\n",
       "      <th>wifi</th>\n",
       "      <th>price_range</th>\n",
       "    </tr>\n",
       "  </thead>\n",
       "  <tbody>\n",
       "    <tr>\n",
       "      <th>0</th>\n",
       "      <td>274.006002</td>\n",
       "      <td>1010</td>\n",
       "      <td>1.929089</td>\n",
       "      <td>981</td>\n",
       "      <td>1.000000</td>\n",
       "      <td>957</td>\n",
       "      <td>5.061140</td>\n",
       "      <td>186</td>\n",
       "      <td>78.547351</td>\n",
       "      <td>247</td>\n",
       "      <td>...</td>\n",
       "      <td>12.139245</td>\n",
       "      <td>250.477179</td>\n",
       "      <td>689.670309</td>\n",
       "      <td>6.240251</td>\n",
       "      <td>5.061140</td>\n",
       "      <td>11.631293</td>\n",
       "      <td>477</td>\n",
       "      <td>994</td>\n",
       "      <td>1014</td>\n",
       "      <td>1</td>\n",
       "    </tr>\n",
       "    <tr>\n",
       "      <th>1</th>\n",
       "      <td>321.752146</td>\n",
       "      <td>990</td>\n",
       "      <td>0.561231</td>\n",
       "      <td>1019</td>\n",
       "      <td>0.000000</td>\n",
       "      <td>1043</td>\n",
       "      <td>27.346173</td>\n",
       "      <td>200</td>\n",
       "      <td>59.972077</td>\n",
       "      <td>246</td>\n",
       "      <td>...</td>\n",
       "      <td>290.987153</td>\n",
       "      <td>560.635142</td>\n",
       "      <td>708.109966</td>\n",
       "      <td>10.601666</td>\n",
       "      <td>2.498050</td>\n",
       "      <td>5.061140</td>\n",
       "      <td>1523</td>\n",
       "      <td>1006</td>\n",
       "      <td>986</td>\n",
       "      <td>2</td>\n",
       "    </tr>\n",
       "    <tr>\n",
       "      <th>2</th>\n",
       "      <td>195.925214</td>\n",
       "      <td>990</td>\n",
       "      <td>0.561231</td>\n",
       "      <td>1019</td>\n",
       "      <td>1.781797</td>\n",
       "      <td>1043</td>\n",
       "      <td>22.079363</td>\n",
       "      <td>195</td>\n",
       "      <td>63.261575</td>\n",
       "      <td>246</td>\n",
       "      <td>...</td>\n",
       "      <td>384.151729</td>\n",
       "      <td>495.942206</td>\n",
       "      <td>701.824417</td>\n",
       "      <td>7.376108</td>\n",
       "      <td>1.781797</td>\n",
       "      <td>6.240251</td>\n",
       "      <td>1523</td>\n",
       "      <td>1006</td>\n",
       "      <td>986</td>\n",
       "      <td>2</td>\n",
       "    </tr>\n",
       "    <tr>\n",
       "      <th>3</th>\n",
       "      <td>210.893210</td>\n",
       "      <td>990</td>\n",
       "      <td>2.145936</td>\n",
       "      <td>981</td>\n",
       "      <td>0.000000</td>\n",
       "      <td>957</td>\n",
       "      <td>6.812921</td>\n",
       "      <td>208</td>\n",
       "      <td>58.128986</td>\n",
       "      <td>230</td>\n",
       "      <td>...</td>\n",
       "      <td>372.201380</td>\n",
       "      <td>512.744738</td>\n",
       "      <td>738.928578</td>\n",
       "      <td>10.079368</td>\n",
       "      <td>5.656854</td>\n",
       "      <td>7.376108</td>\n",
       "      <td>1523</td>\n",
       "      <td>994</td>\n",
       "      <td>986</td>\n",
       "      <td>2</td>\n",
       "    </tr>\n",
       "    <tr>\n",
       "      <th>4</th>\n",
       "      <td>521.104658</td>\n",
       "      <td>990</td>\n",
       "      <td>1.164084</td>\n",
       "      <td>981</td>\n",
       "      <td>8.477858</td>\n",
       "      <td>1043</td>\n",
       "      <td>23.417682</td>\n",
       "      <td>186</td>\n",
       "      <td>61.803907</td>\n",
       "      <td>247</td>\n",
       "      <td>...</td>\n",
       "      <td>370.159681</td>\n",
       "      <td>371.180811</td>\n",
       "      <td>421.313955</td>\n",
       "      <td>5.656854</td>\n",
       "      <td>1.781797</td>\n",
       "      <td>9.551598</td>\n",
       "      <td>1523</td>\n",
       "      <td>1006</td>\n",
       "      <td>986</td>\n",
       "      <td>1</td>\n",
       "    </tr>\n",
       "  </tbody>\n",
       "</table>\n",
       "<p>5 rows × 21 columns</p>\n",
       "</div>"
      ],
      "text/plain": [
       "   battery_power  blue  clock_speed  dual_sim        fc  four_g  int_memory  \\\n",
       "0     274.006002  1010     1.929089       981  1.000000     957    5.061140   \n",
       "1     321.752146   990     0.561231      1019  0.000000    1043   27.346173   \n",
       "2     195.925214   990     0.561231      1019  1.781797    1043   22.079363   \n",
       "3     210.893210   990     2.145936       981  0.000000     957    6.812921   \n",
       "4     521.104658   990     1.164084       981  8.477858    1043   23.417682   \n",
       "\n",
       "   m_dep  mobile_wt  n_cores  ...   px_height    px_width         ram  \\\n",
       "0    186  78.547351      247  ...   12.139245  250.477179  689.670309   \n",
       "1    200  59.972077      246  ...  290.987153  560.635142  708.109966   \n",
       "2    195  63.261575      246  ...  384.151729  495.942206  701.824417   \n",
       "3    208  58.128986      230  ...  372.201380  512.744738  738.928578   \n",
       "4    186  61.803907      247  ...  370.159681  371.180811  421.313955   \n",
       "\n",
       "        sc_h      sc_w  talk_time  three_g  touch_screen  wifi  price_range  \n",
       "0   6.240251  5.061140  11.631293      477           994  1014            1  \n",
       "1  10.601666  2.498050   5.061140     1523          1006   986            2  \n",
       "2   7.376108  1.781797   6.240251     1523          1006   986            2  \n",
       "3  10.079368  5.656854   7.376108     1523           994   986            2  \n",
       "4   5.656854  1.781797   9.551598     1523          1006   986            1  \n",
       "\n",
       "[5 rows x 21 columns]"
      ]
     },
     "execution_count": 58,
     "metadata": {},
     "output_type": "execute_result"
    }
   ],
   "source": [
    "data2.head()"
   ]
  },
  {
   "cell_type": "markdown",
   "metadata": {},
   "source": [
    "I WILL DO STANDARDIATION "
   ]
  },
  {
   "cell_type": "code",
   "execution_count": 59,
   "metadata": {},
   "outputs": [],
   "source": [
    "x = data2.drop('price_range',axis =1)\n",
    "y = data2['price_range']"
   ]
  },
  {
   "cell_type": "code",
   "execution_count": 60,
   "metadata": {},
   "outputs": [
    {
     "data": {
      "text/html": [
       "<div>\n",
       "<style scoped>\n",
       "    .dataframe tbody tr th:only-of-type {\n",
       "        vertical-align: middle;\n",
       "    }\n",
       "\n",
       "    .dataframe tbody tr th {\n",
       "        vertical-align: top;\n",
       "    }\n",
       "\n",
       "    .dataframe thead th {\n",
       "        text-align: right;\n",
       "    }\n",
       "</style>\n",
       "<table border=\"1\" class=\"dataframe\">\n",
       "  <thead>\n",
       "    <tr style=\"text-align: right;\">\n",
       "      <th></th>\n",
       "      <th>battery_power</th>\n",
       "      <th>blue</th>\n",
       "      <th>clock_speed</th>\n",
       "      <th>dual_sim</th>\n",
       "      <th>fc</th>\n",
       "      <th>four_g</th>\n",
       "      <th>int_memory</th>\n",
       "      <th>m_dep</th>\n",
       "      <th>mobile_wt</th>\n",
       "      <th>n_cores</th>\n",
       "      <th>...</th>\n",
       "      <th>px_height</th>\n",
       "      <th>px_width</th>\n",
       "      <th>ram</th>\n",
       "      <th>sc_h</th>\n",
       "      <th>sc_w</th>\n",
       "      <th>talk_time</th>\n",
       "      <th>three_g</th>\n",
       "      <th>touch_screen</th>\n",
       "      <th>wifi</th>\n",
       "      <th>price_range</th>\n",
       "    </tr>\n",
       "  </thead>\n",
       "  <tbody>\n",
       "    <tr>\n",
       "      <th>0</th>\n",
       "      <td>-0.892800</td>\n",
       "      <td>0.990050</td>\n",
       "      <td>0.844417</td>\n",
       "      <td>-1.019184</td>\n",
       "      <td>-0.748565</td>\n",
       "      <td>-1.043966</td>\n",
       "      <td>-1.434700</td>\n",
       "      <td>-0.502556</td>\n",
       "      <td>1.331597</td>\n",
       "      <td>-0.291494</td>\n",
       "      <td>...</td>\n",
       "      <td>-1.587624</td>\n",
       "      <td>-1.153108</td>\n",
       "      <td>0.425282</td>\n",
       "      <td>-0.765764</td>\n",
       "      <td>0.347508</td>\n",
       "      <td>1.412550</td>\n",
       "      <td>-1.786861</td>\n",
       "      <td>-1.006018</td>\n",
       "      <td>0.986097</td>\n",
       "      <td>1</td>\n",
       "    </tr>\n",
       "    <tr>\n",
       "      <th>1</th>\n",
       "      <td>-0.468513</td>\n",
       "      <td>-1.010051</td>\n",
       "      <td>-1.293774</td>\n",
       "      <td>0.981177</td>\n",
       "      <td>-1.103236</td>\n",
       "      <td>0.957886</td>\n",
       "      <td>1.132465</td>\n",
       "      <td>-0.235746</td>\n",
       "      <td>-0.098429</td>\n",
       "      <td>-0.372487</td>\n",
       "      <td>...</td>\n",
       "      <td>0.629749</td>\n",
       "      <td>1.653063</td>\n",
       "      <td>0.496971</td>\n",
       "      <td>1.101376</td>\n",
       "      <td>-0.587597</td>\n",
       "      <td>-0.701156</td>\n",
       "      <td>0.559641</td>\n",
       "      <td>0.994018</td>\n",
       "      <td>-1.014099</td>\n",
       "      <td>2</td>\n",
       "    </tr>\n",
       "    <tr>\n",
       "      <th>2</th>\n",
       "      <td>-1.586652</td>\n",
       "      <td>-1.010051</td>\n",
       "      <td>-1.293774</td>\n",
       "      <td>0.981177</td>\n",
       "      <td>-0.471285</td>\n",
       "      <td>0.957886</td>\n",
       "      <td>0.525745</td>\n",
       "      <td>-0.331035</td>\n",
       "      <td>0.154814</td>\n",
       "      <td>-0.372487</td>\n",
       "      <td>...</td>\n",
       "      <td>1.370585</td>\n",
       "      <td>1.067750</td>\n",
       "      <td>0.472534</td>\n",
       "      <td>-0.279499</td>\n",
       "      <td>-0.848910</td>\n",
       "      <td>-0.321820</td>\n",
       "      <td>0.559641</td>\n",
       "      <td>0.994018</td>\n",
       "      <td>-1.014099</td>\n",
       "      <td>2</td>\n",
       "    </tr>\n",
       "    <tr>\n",
       "      <th>3</th>\n",
       "      <td>-1.453641</td>\n",
       "      <td>-1.010051</td>\n",
       "      <td>1.183385</td>\n",
       "      <td>-1.019184</td>\n",
       "      <td>-1.103236</td>\n",
       "      <td>-1.043966</td>\n",
       "      <td>-1.232901</td>\n",
       "      <td>-0.083283</td>\n",
       "      <td>-0.240321</td>\n",
       "      <td>-1.668374</td>\n",
       "      <td>...</td>\n",
       "      <td>1.275557</td>\n",
       "      <td>1.219772</td>\n",
       "      <td>0.616787</td>\n",
       "      <td>0.877778</td>\n",
       "      <td>0.564845</td>\n",
       "      <td>0.043600</td>\n",
       "      <td>0.559641</td>\n",
       "      <td>-1.006018</td>\n",
       "      <td>-1.014099</td>\n",
       "      <td>2</td>\n",
       "    </tr>\n",
       "    <tr>\n",
       "      <th>4</th>\n",
       "      <td>1.302998</td>\n",
       "      <td>-1.010051</td>\n",
       "      <td>-0.351414</td>\n",
       "      <td>-1.019184</td>\n",
       "      <td>1.903610</td>\n",
       "      <td>0.957886</td>\n",
       "      <td>0.679915</td>\n",
       "      <td>-0.502556</td>\n",
       "      <td>0.042595</td>\n",
       "      <td>-0.291494</td>\n",
       "      <td>...</td>\n",
       "      <td>1.259322</td>\n",
       "      <td>-0.061035</td>\n",
       "      <td>-0.618024</td>\n",
       "      <td>-1.015519</td>\n",
       "      <td>-0.848910</td>\n",
       "      <td>0.743485</td>\n",
       "      <td>0.559641</td>\n",
       "      <td>0.994018</td>\n",
       "      <td>-1.014099</td>\n",
       "      <td>1</td>\n",
       "    </tr>\n",
       "    <tr>\n",
       "      <th>5</th>\n",
       "      <td>1.383386</td>\n",
       "      <td>0.990050</td>\n",
       "      <td>-1.293774</td>\n",
       "      <td>0.981177</td>\n",
       "      <td>-0.217251</td>\n",
       "      <td>-1.043966</td>\n",
       "      <td>-0.503727</td>\n",
       "      <td>-0.235746</td>\n",
       "      <td>0.681089</td>\n",
       "      <td>-0.696459</td>\n",
       "      <td>...</td>\n",
       "      <td>0.838839</td>\n",
       "      <td>0.932238</td>\n",
       "      <td>-0.958305</td>\n",
       "      <td>1.101376</td>\n",
       "      <td>-1.134137</td>\n",
       "      <td>-0.137585</td>\n",
       "      <td>0.559641</td>\n",
       "      <td>-1.006018</td>\n",
       "      <td>-1.014099</td>\n",
       "      <td>1</td>\n",
       "    </tr>\n",
       "    <tr>\n",
       "      <th>6</th>\n",
       "      <td>1.302998</td>\n",
       "      <td>0.990050</td>\n",
       "      <td>0.261391</td>\n",
       "      <td>-1.019184</td>\n",
       "      <td>0.022773</td>\n",
       "      <td>0.957886</td>\n",
       "      <td>-1.232901</td>\n",
       "      <td>-0.083283</td>\n",
       "      <td>-0.013713</td>\n",
       "      <td>0.437443</td>\n",
       "      <td>...</td>\n",
       "      <td>-0.558922</td>\n",
       "      <td>-0.515373</td>\n",
       "      <td>1.001722</td>\n",
       "      <td>0.192165</td>\n",
       "      <td>0.564845</td>\n",
       "      <td>1.247695</td>\n",
       "      <td>0.559641</td>\n",
       "      <td>-1.006018</td>\n",
       "      <td>0.986097</td>\n",
       "      <td>3</td>\n",
       "    </tr>\n",
       "    <tr>\n",
       "      <th>7</th>\n",
       "      <td>1.583173</td>\n",
       "      <td>0.990050</td>\n",
       "      <td>-1.293774</td>\n",
       "      <td>0.981177</td>\n",
       "      <td>-1.103236</td>\n",
       "      <td>-1.043966</td>\n",
       "      <td>-0.389870</td>\n",
       "      <td>-0.083283</td>\n",
       "      <td>1.304781</td>\n",
       "      <td>1.895317</td>\n",
       "      <td>...</td>\n",
       "      <td>-0.244705</td>\n",
       "      <td>-0.207148</td>\n",
       "      <td>-1.342690</td>\n",
       "      <td>0.877778</td>\n",
       "      <td>-0.587597</td>\n",
       "      <td>-1.099282</td>\n",
       "      <td>0.559641</td>\n",
       "      <td>0.994018</td>\n",
       "      <td>0.986097</td>\n",
       "      <td>0</td>\n",
       "    </tr>\n",
       "    <tr>\n",
       "      <th>8</th>\n",
       "      <td>0.491255</td>\n",
       "      <td>-1.010051</td>\n",
       "      <td>-1.293774</td>\n",
       "      <td>-1.019184</td>\n",
       "      <td>-1.103236</td>\n",
       "      <td>-1.043966</td>\n",
       "      <td>1.132465</td>\n",
       "      <td>-0.235746</td>\n",
       "      <td>0.953940</td>\n",
       "      <td>0.680422</td>\n",
       "      <td>...</td>\n",
       "      <td>-0.546629</td>\n",
       "      <td>-0.954959</td>\n",
       "      <td>-0.925953</td>\n",
       "      <td>1.101376</td>\n",
       "      <td>-1.134137</td>\n",
       "      <td>1.575965</td>\n",
       "      <td>0.559641</td>\n",
       "      <td>-1.006018</td>\n",
       "      <td>-1.014099</td>\n",
       "      <td>0</td>\n",
       "    </tr>\n",
       "    <tr>\n",
       "      <th>9</th>\n",
       "      <td>-1.726968</td>\n",
       "      <td>-1.010051</td>\n",
       "      <td>-1.149824</td>\n",
       "      <td>0.981177</td>\n",
       "      <td>-0.471285</td>\n",
       "      <td>0.957886</td>\n",
       "      <td>-1.298871</td>\n",
       "      <td>2.051197</td>\n",
       "      <td>-1.351755</td>\n",
       "      <td>-0.372487</td>\n",
       "      <td>...</td>\n",
       "      <td>1.114430</td>\n",
       "      <td>-0.033349</td>\n",
       "      <td>-1.551088</td>\n",
       "      <td>1.542164</td>\n",
       "      <td>0.986618</td>\n",
       "      <td>0.222056</td>\n",
       "      <td>0.559641</td>\n",
       "      <td>-1.006018</td>\n",
       "      <td>-1.014099</td>\n",
       "      <td>0</td>\n",
       "    </tr>\n",
       "  </tbody>\n",
       "</table>\n",
       "<p>10 rows × 21 columns</p>\n",
       "</div>"
      ],
      "text/plain": [
       "   battery_power      blue  clock_speed  dual_sim        fc    four_g  \\\n",
       "0      -0.892800  0.990050     0.844417 -1.019184 -0.748565 -1.043966   \n",
       "1      -0.468513 -1.010051    -1.293774  0.981177 -1.103236  0.957886   \n",
       "2      -1.586652 -1.010051    -1.293774  0.981177 -0.471285  0.957886   \n",
       "3      -1.453641 -1.010051     1.183385 -1.019184 -1.103236 -1.043966   \n",
       "4       1.302998 -1.010051    -0.351414 -1.019184  1.903610  0.957886   \n",
       "5       1.383386  0.990050    -1.293774  0.981177 -0.217251 -1.043966   \n",
       "6       1.302998  0.990050     0.261391 -1.019184  0.022773  0.957886   \n",
       "7       1.583173  0.990050    -1.293774  0.981177 -1.103236 -1.043966   \n",
       "8       0.491255 -1.010051    -1.293774 -1.019184 -1.103236 -1.043966   \n",
       "9      -1.726968 -1.010051    -1.149824  0.981177 -0.471285  0.957886   \n",
       "\n",
       "   int_memory     m_dep  mobile_wt   n_cores  ...  px_height  px_width  \\\n",
       "0   -1.434700 -0.502556   1.331597 -0.291494  ...  -1.587624 -1.153108   \n",
       "1    1.132465 -0.235746  -0.098429 -0.372487  ...   0.629749  1.653063   \n",
       "2    0.525745 -0.331035   0.154814 -0.372487  ...   1.370585  1.067750   \n",
       "3   -1.232901 -0.083283  -0.240321 -1.668374  ...   1.275557  1.219772   \n",
       "4    0.679915 -0.502556   0.042595 -0.291494  ...   1.259322 -0.061035   \n",
       "5   -0.503727 -0.235746   0.681089 -0.696459  ...   0.838839  0.932238   \n",
       "6   -1.232901 -0.083283  -0.013713  0.437443  ...  -0.558922 -0.515373   \n",
       "7   -0.389870 -0.083283   1.304781  1.895317  ...  -0.244705 -0.207148   \n",
       "8    1.132465 -0.235746   0.953940  0.680422  ...  -0.546629 -0.954959   \n",
       "9   -1.298871  2.051197  -1.351755 -0.372487  ...   1.114430 -0.033349   \n",
       "\n",
       "        ram      sc_h      sc_w  talk_time   three_g  touch_screen      wifi  \\\n",
       "0  0.425282 -0.765764  0.347508   1.412550 -1.786861     -1.006018  0.986097   \n",
       "1  0.496971  1.101376 -0.587597  -0.701156  0.559641      0.994018 -1.014099   \n",
       "2  0.472534 -0.279499 -0.848910  -0.321820  0.559641      0.994018 -1.014099   \n",
       "3  0.616787  0.877778  0.564845   0.043600  0.559641     -1.006018 -1.014099   \n",
       "4 -0.618024 -1.015519 -0.848910   0.743485  0.559641      0.994018 -1.014099   \n",
       "5 -0.958305  1.101376 -1.134137  -0.137585  0.559641     -1.006018 -1.014099   \n",
       "6  1.001722  0.192165  0.564845   1.247695  0.559641     -1.006018  0.986097   \n",
       "7 -1.342690  0.877778 -0.587597  -1.099282  0.559641      0.994018  0.986097   \n",
       "8 -0.925953  1.101376 -1.134137   1.575965  0.559641     -1.006018 -1.014099   \n",
       "9 -1.551088  1.542164  0.986618   0.222056  0.559641     -1.006018 -1.014099   \n",
       "\n",
       "   price_range  \n",
       "0            1  \n",
       "1            2  \n",
       "2            2  \n",
       "3            2  \n",
       "4            1  \n",
       "5            1  \n",
       "6            3  \n",
       "7            0  \n",
       "8            0  \n",
       "9            0  \n",
       "\n",
       "[10 rows x 21 columns]"
      ]
     },
     "execution_count": 60,
     "metadata": {},
     "output_type": "execute_result"
    }
   ],
   "source": [
    "from sklearn.preprocessing import StandardScaler\n",
    "\n",
    "scaled_std = StandardScaler()\n",
    "scaled_std = pd.DataFrame(scaled_std.fit_transform(x),columns  = data2.columns[:-1])\n",
    "scaled_std['price_range'] = data2['price_range']\n",
    "scaled_std.head(10)"
   ]
  },
  {
   "cell_type": "code",
   "execution_count": 61,
   "metadata": {},
   "outputs": [],
   "source": [
    "x = scaled_std.drop('price_range',axis =1)\n",
    "y = scaled_std['price_range']"
   ]
  },
  {
   "cell_type": "markdown",
   "metadata": {},
   "source": [
    "#### FEATURE SELECTION "
   ]
  },
  {
   "cell_type": "code",
   "execution_count": 62,
   "metadata": {},
   "outputs": [],
   "source": [
    "x_train,x_test,y_train,y_test = train_test_split(x,y,test_size =0.2,random_state =0)"
   ]
  },
  {
   "cell_type": "markdown",
   "metadata": {},
   "source": [
    "#### APPLY WAY -3 OF FEATURE SEELCTION BY MUTUAL GAIN"
   ]
  },
  {
   "cell_type": "code",
   "execution_count": 63,
   "metadata": {},
   "outputs": [
    {
     "data": {
      "text/plain": [
       "array([4.53051130e-02, 3.11584355e-02, 0.00000000e+00, 0.00000000e+00,\n",
       "       2.31161186e-02, 6.54259215e-03, 9.61514134e-03, 1.62603847e-02,\n",
       "       1.54676635e-02, 0.00000000e+00, 0.00000000e+00, 3.60132996e-02,\n",
       "       2.12614748e-02, 8.25480584e-01, 0.00000000e+00, 4.23239323e-02,\n",
       "       2.05741831e-02, 0.00000000e+00, 5.18828412e-04, 1.25708497e-02])"
      ]
     },
     "execution_count": 63,
     "metadata": {},
     "output_type": "execute_result"
    }
   ],
   "source": [
    "mutual_info = mutual_info_classif(x_train,y_train)\n",
    "mutual_info"
   ]
  },
  {
   "cell_type": "code",
   "execution_count": 64,
   "metadata": {
    "scrolled": true
   },
   "outputs": [
    {
     "data": {
      "text/plain": [
       "ram              0.825481\n",
       "battery_power    0.045305\n",
       "sc_w             0.042324\n",
       "px_height        0.036013\n",
       "blue             0.031158\n",
       "fc               0.023116\n",
       "px_width         0.021261\n",
       "talk_time        0.020574\n",
       "m_dep            0.016260\n",
       "mobile_wt        0.015468\n",
       "wifi             0.012571\n",
       "int_memory       0.009615\n",
       "four_g           0.006543\n",
       "touch_screen     0.000519\n",
       "pc               0.000000\n",
       "sc_h             0.000000\n",
       "dual_sim         0.000000\n",
       "clock_speed      0.000000\n",
       "three_g          0.000000\n",
       "n_cores          0.000000\n",
       "dtype: float64"
      ]
     },
     "execution_count": 64,
     "metadata": {},
     "output_type": "execute_result"
    }
   ],
   "source": [
    "mutual_info = pd.Series(mutual_info,index = x_train.columns)\n",
    "mutual_info.sort_values(ascending=False)"
   ]
  },
  {
   "cell_type": "markdown",
   "metadata": {},
   "source": [
    "THIS IS THE RANK OF THE FEATURES HIGHER TO LOWER ON BASIS OF MUTUAL GAIN"
   ]
  },
  {
   "cell_type": "markdown",
   "metadata": {},
   "source": [
    "ram IS THE MOST IMPORTANT WHILE n_cores IS OF LESS IMPORTANCE"
   ]
  },
  {
   "cell_type": "code",
   "execution_count": 65,
   "metadata": {
    "scrolled": true
   },
   "outputs": [
    {
     "data": {
      "text/plain": [
       "<AxesSubplot:>"
      ]
     },
     "execution_count": 65,
     "metadata": {},
     "output_type": "execute_result"
    },
    {
     "data": {
      "image/png": "[encoded data removed]",
      "text/plain": [
       "<Figure size 432x288 with 1 Axes>"
      ]
     },
     "metadata": {
      "needs_background": "light"
     },
     "output_type": "display_data"
    }
   ],
   "source": [
    "mutual_info.sort_values(ascending=False).plot.bar()"
   ]
  },
  {
   "cell_type": "markdown",
   "metadata": {},
   "source": [
    "SELECTING THE IMPORTANT FEATUERS"
   ]
  },
  {
   "cell_type": "code",
   "execution_count": 66,
   "metadata": {},
   "outputs": [],
   "source": [
    "select = {column : round(mutual_info[column],5) for column in mutual_info.keys() if mutual_info[column]>0 }"
   ]
  },
  {
   "cell_type": "code",
   "execution_count": 67,
   "metadata": {
    "scrolled": true
   },
   "outputs": [
    {
     "data": {
      "text/plain": [
       "{'battery_power': 0.04531,\n",
       " 'blue': 0.03116,\n",
       " 'fc': 0.02312,\n",
       " 'four_g': 0.00654,\n",
       " 'int_memory': 0.00962,\n",
       " 'm_dep': 0.01626,\n",
       " 'mobile_wt': 0.01547,\n",
       " 'px_height': 0.03601,\n",
       " 'px_width': 0.02126,\n",
       " 'ram': 0.82548,\n",
       " 'sc_w': 0.04232,\n",
       " 'talk_time': 0.02057,\n",
       " 'touch_screen': 0.00052,\n",
       " 'wifi': 0.01257}"
      ]
     },
     "execution_count": 67,
     "metadata": {},
     "output_type": "execute_result"
    }
   ],
   "source": [
    "select"
   ]
  },
  {
   "cell_type": "markdown",
   "metadata": {},
   "source": [
    "LIST OF UN IMPORTANT FEATURES"
   ]
  },
  {
   "cell_type": "code",
   "execution_count": 68,
   "metadata": {},
   "outputs": [],
   "source": [
    "remove = [column for column in mutual_info.keys() if mutual_info[column]==0]"
   ]
  },
  {
   "cell_type": "code",
   "execution_count": 69,
   "metadata": {},
   "outputs": [
    {
     "data": {
      "text/plain": [
       "['clock_speed', 'dual_sim', 'n_cores', 'pc', 'sc_h', 'three_g']"
      ]
     },
     "execution_count": 69,
     "metadata": {},
     "output_type": "execute_result"
    }
   ],
   "source": [
    "remove"
   ]
  },
  {
   "cell_type": "markdown",
   "metadata": {},
   "source": [
    "DROPPING THE VARIABLES FROM TRAIN AND TEST SET NOW"
   ]
  },
  {
   "cell_type": "code",
   "execution_count": 70,
   "metadata": {},
   "outputs": [],
   "source": [
    "x_train = x_train.drop(remove,axis=1)\n",
    "x_test = x_test.drop(remove,axis=1)"
   ]
  },
  {
   "cell_type": "markdown",
   "metadata": {},
   "source": [
    "#### WAY - 5 OF FEATURE SELECTION FIESHER TEST. WE CANNOT APPLY THIS WAY AS THIS WAY TAKES ONLY POSITIVE INPUT AND STANDARIZATION GIVES POSITIVE AND NEGATIVE  VALUES "
   ]
  },
  {
   "cell_type": "markdown",
   "metadata": {},
   "source": [
    "#### WAY - 6 FEATURE IMPORTANCE "
   ]
  },
  {
   "cell_type": "code",
   "execution_count": 71,
   "metadata": {},
   "outputs": [],
   "source": [
    "x_train,x_test,y_train,y_test = train_test_split(x,y,test_size = 0.2,random_state =0)"
   ]
  },
  {
   "cell_type": "code",
   "execution_count": 72,
   "metadata": {
    "scrolled": true
   },
   "outputs": [
    {
     "data": {
      "text/plain": [
       "ExtraTreesClassifier()"
      ]
     },
     "execution_count": 72,
     "metadata": {},
     "output_type": "execute_result"
    }
   ],
   "source": [
    "extratc=ExtraTreesClassifier()\n",
    "extratc.fit(x,y)"
   ]
  },
  {
   "cell_type": "code",
   "execution_count": 73,
   "metadata": {},
   "outputs": [
    {
     "data": {
      "text/plain": [
       "array([0.06024855, 0.01993029, 0.03400949, 0.0195522 , 0.03309041,\n",
       "       0.01838243, 0.03598098, 0.03216256, 0.03846913, 0.03211993,\n",
       "       0.03418176, 0.04682197, 0.05056462, 0.38811185, 0.0338522 ,\n",
       "       0.03486314, 0.03500464, 0.01510688, 0.01697331, 0.02057366])"
      ]
     },
     "execution_count": 73,
     "metadata": {},
     "output_type": "execute_result"
    }
   ],
   "source": [
    "extratc.feature_importances_"
   ]
  },
  {
   "cell_type": "code",
   "execution_count": 74,
   "metadata": {},
   "outputs": [],
   "source": [
    "extra_f=pd.Series(extratc.feature_importances_,index=x.columns)"
   ]
  },
  {
   "cell_type": "code",
   "execution_count": 75,
   "metadata": {
    "scrolled": true
   },
   "outputs": [
    {
     "data": {
      "text/plain": [
       "<AxesSubplot:>"
      ]
     },
     "execution_count": 75,
     "metadata": {},
     "output_type": "execute_result"
    },
    {
     "data": {
      "image/png": "[encoded data removed]",
      "text/plain": [
       "<Figure size 576x288 with 1 Axes>"
      ]
     },
     "metadata": {
      "needs_background": "light"
     },
     "output_type": "display_data"
    }
   ],
   "source": [
    "plt.figure(figsize=(8,4))\n",
    "extra_f.sort_values(ascending=False).plot.bar()"
   ]
  },
  {
   "cell_type": "markdown",
   "metadata": {},
   "source": [
    "LIST OF FEATURES TO BE REMOVED FROM THE DATA SET"
   ]
  },
  {
   "cell_type": "code",
   "execution_count": 76,
   "metadata": {},
   "outputs": [
    {
     "data": {
      "text/plain": [
       "['wifi', 'blue', 'dual_sim', 'four_g', 'touch_screen', 'three_g']"
      ]
     },
     "execution_count": 76,
     "metadata": {},
     "output_type": "execute_result"
    }
   ],
   "source": [
    "remove=list(extra_f.sort_values(ascending=False).index[14:])\n",
    "remove"
   ]
  },
  {
   "cell_type": "markdown",
   "metadata": {},
   "source": [
    "REMOVING FROM THE TRAIN AND TEST SET"
   ]
  },
  {
   "cell_type": "code",
   "execution_count": 77,
   "metadata": {},
   "outputs": [],
   "source": [
    "x_train = x_train.drop(remove,axis=1)\n",
    "x_test = x_test.drop(remove , axis =1)"
   ]
  },
  {
   "cell_type": "markdown",
   "metadata": {},
   "source": [
    "#### NOW WE HAVE FOUND THE VARIABLES WHICH ARE IMPORTANT FOR PREDICTING OUTPUT... \n",
    "#### NEXT WE NEED TO BUILD MODELS AND PERFORM HYPER PARAMETRIC TUNING WHERE EVER NEEDED"
   ]
  }
 ],
 "metadata": {
  "kernelspec": {
   "display_name": "Python 3",
   "language": "python",
   "name": "python3"
  },
  "language_info": {
   "codemirror_mode": {
    "name": "ipython",
    "version": 3
   },
   "file_extension": ".py",
   "mimetype": "text/x-python",
   "name": "python",
   "nbconvert_exporter": "python",
   "pygments_lexer": "ipython3",
   "version": "3.8.5"
  }
 },
 "nbformat": 4,
 "nbformat_minor": 4
}
